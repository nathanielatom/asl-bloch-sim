{
 "cells": [
  {
   "cell_type": "code",
   "execution_count": 1,
   "id": "c3569c89-2bc2-4394-94c2-516815104c31",
   "metadata": {},
   "outputs": [],
   "source": [
    "import matplotlib.pyplot as plt\n",
    "import numpy as np\n",
    "\n",
    "import sycomore\n",
    "from sycomore.units import *"
   ]
  },
  {
   "cell_type": "code",
   "execution_count": 2,
   "id": "35d15368-d782-4fb7-ad9f-758aac109bff",
   "metadata": {},
   "outputs": [],
   "source": [
    "T1 = 1000*ms\n",
    "T2 = 100*ms\n",
    "G = 0.1*mT/m\n",
    "zero = 0*mT/m\n",
    "TE = 20*ms\n",
    "delta = 1*ms\n",
    "blip = delta ** 2 / TE"
   ]
  },
  {
   "cell_type": "code",
   "execution_count": 3,
   "id": "4e630336-7467-4264-afba-69d7890437bc",
   "metadata": {},
   "outputs": [],
   "source": [
    "species = sycomore.Species(T1, T2)\n",
    "model = sycomore.epg.Discrete3D(species)"
   ]
  },
  {
   "cell_type": "code",
   "execution_count": 5,
   "id": "0283a661-5b44-498a-8577-876c6f43e446",
   "metadata": {},
   "outputs": [],
   "source": [
    "echoes = []\n",
    "\n",
    "echoes.append(model.echo)\n",
    "model.apply_pulse(90*deg)\n",
    "echoes.append(model.echo)\n",
    "model.apply_time_interval(delta / 2, [G, G, zero])\n",
    "echoes.append(model.echo)\n",
    "model.apply_time_interval(TE / 2 - delta / 2)\n",
    "echoes.append(model.echo)\n",
    "model.apply_pulse(180*deg)\n",
    "echoes.append(model.echo)\n",
    "for blipdex in range(int(round(TE / delta))):\n",
    "    model.apply_time_interval(delta, [G, zero, zero])\n",
    "    model.apply_time_interval(blip, [zero, G, zero])\n",
    "    echoes.append(model.echo)\n",
    "    model.apply_time_interval(delta, [-G, zero, zero])\n",
    "    model.apply_time_interval(blip, [zero, G, zero])\n",
    "    echoes.append(model.echo)"
   ]
  },
  {
   "cell_type": "code",
   "execution_count": 6,
   "id": "ffcff3b8-1d85-417c-b17d-8ec3c31a3e2a",
   "metadata": {},
   "outputs": [
    {
     "data": {
      "text/plain": [
       "[0j,\n",
       " -1j,\n",
       " 0j,\n",
       " 0j,\n",
       " -1.2185439250065432e-18j,\n",
       " 0j,\n",
       " 0j,\n",
       " 0j,\n",
       " 0j,\n",
       " 0j,\n",
       " 0j,\n",
       " 0j,\n",
       " 0j,\n",
       " 0j,\n",
       " 0j,\n",
       " 0j,\n",
       " 0j,\n",
       " 0j,\n",
       " 0j,\n",
       " 0j,\n",
       " 0j,\n",
       " 0j,\n",
       " 0j,\n",
       " 0j,\n",
       " 0j,\n",
       " 0j,\n",
       " 0j,\n",
       " 0j,\n",
       " 0j,\n",
       " 0j,\n",
       " 0j,\n",
       " 0j,\n",
       " 0j,\n",
       " 0j,\n",
       " 0j,\n",
       " 0j,\n",
       " 0j,\n",
       " 0j,\n",
       " 0j,\n",
       " 0j,\n",
       " 0j,\n",
       " 0j,\n",
       " 0j,\n",
       " 0j,\n",
       " 0j]"
      ]
     },
     "execution_count": 6,
     "metadata": {},
     "output_type": "execute_result"
    }
   ],
   "source": [
    "echoes"
   ]
  },
  {
   "cell_type": "code",
   "execution_count": null,
   "id": "8495932b-2335-4be9-b6ce-cfcf27c10c1f",
   "metadata": {},
   "outputs": [],
   "source": []
  },
  {
   "cell_type": "code",
   "execution_count": null,
   "id": "adb22687-c526-4a39-abe3-80ce22a69608",
   "metadata": {},
   "outputs": [],
   "source": []
  }
 ],
 "metadata": {
  "kernelspec": {
   "display_name": "Python 3 (ipykernel)",
   "language": "python",
   "name": "python3"
  },
  "language_info": {
   "codemirror_mode": {
    "name": "ipython",
    "version": 3
   },
   "file_extension": ".py",
   "mimetype": "text/x-python",
   "name": "python",
   "nbconvert_exporter": "python",
   "pygments_lexer": "ipython3",
   "version": "3.9.10"
  }
 },
 "nbformat": 4,
 "nbformat_minor": 5
}
