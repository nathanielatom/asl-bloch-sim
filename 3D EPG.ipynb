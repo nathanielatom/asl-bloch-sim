{
 "cells": [
  {
   "cell_type": "code",
   "execution_count": 2,
   "id": "74b3e75c-a414-4c1e-93f1-1dc354de2b1f",
   "metadata": {},
   "outputs": [
    {
     "name": "stdout",
     "output_type": "stream",
     "text": [
      "b=1507 s/mm²\n",
      "2402 points on sphere\n"
     ]
    }
   ],
   "source": [
    "import numpy\n",
    "import sycomore\n",
    "from sycomore.units import *\n",
    "import vtk\n",
    "import vtk.numpy_interface.dataset_adapter\n",
    "\n",
    "species = sycomore.Species(\n",
    "    1000*ms, 100*ms, numpy.diag([4000, 1500, 10])*um**2/s)\n",
    "\n",
    "TE = 50*ms\n",
    "G = 50*mT/m\n",
    "delta = 18*ms\n",
    "# Since b = (γGδ)^2 ⋅ (Δ-δ/3) and Δ = TE-δ, the b-value is:\n",
    "print(\n",
    "    \"b={:.0f} s/mm²\".format(\n",
    "        ((sycomore.gamma*G*delta)**2 * (TE-4/3*delta)).convert_to(s/mm**2)))\n",
    "\n",
    "def dw_se(species, TE, G, delta):\n",
    "    model = sycomore.epg.Discrete3D(species)\n",
    "\n",
    "    # Excitation\n",
    "    model.apply_pulse(90*deg)\n",
    "\n",
    "    # Diffusion-sensitization gradient and mixing time\n",
    "    model.apply_time_interval(delta, G)\n",
    "    model.apply_time_interval(TE/2-delta)\n",
    "\n",
    "    # Refocussing\n",
    "    model.apply_pulse(180*deg)\n",
    "\n",
    "    # Mixing time and diffusion-sensitization gradient\n",
    "    model.apply_time_interval(TE/2-delta)\n",
    "    model.apply_time_interval(delta, G)\n",
    "\n",
    "    return numpy.abs(model.echo)\n",
    "\n",
    "# Generate a unit sphere\n",
    "sphere_source = vtk.vtkSphereSource()\n",
    "sphere_source.SetRadius(1)\n",
    "sphere_source.SetThetaResolution(50)\n",
    "sphere_source.SetPhiResolution(50)\n",
    "sphere_source.Update()\n",
    "sphere = vtk.numpy_interface.dataset_adapter.WrapDataObject(\n",
    "    sphere_source.GetOutput())\n",
    "print(len(sphere.Points), \"points on sphere\")\n",
    "\n",
    "# Simulate the sequence with a diffusion gradient along each point on the sphere\n",
    "S_0 = dw_se(species, TE, [0*mT/m, 0*mT/m, 0*mT/m], delta)\n",
    "attenuation = numpy.zeros((len(sphere.Points)))\n",
    "for index, direction in enumerate(sphere.Points):\n",
    "    S = dw_se(species, TE, direction*G, delta)\n",
    "    attenuation[index] = S/S_0\n",
    "    sphere.Points[index] *= attenuation[index]\n",
    "sphere.PointData.append(1-attenuation, \"Attenuation\")\n",
    "sphere.PointData.SetActiveScalars(\"Attenuation\")\n",
    "\n",
    "# Recompute the normals of the surface\n",
    "normals = vtk.vtkPolyDataNormals()\n",
    "normals.SetInputData(sphere.VTKObject)\n",
    "\n",
    "# Plot the result\n",
    "mapper = vtk.vtkPolyDataMapper()\n",
    "mapper.SetInputConnection(normals.GetOutputPort())\n",
    "actor = vtk.vtkActor()\n",
    "actor.SetMapper(mapper)\n",
    "\n",
    "renderer = vtk.vtkRenderer()\n",
    "renderer.AddActor(actor)\n",
    "renderer.SetBackground(1, 1, 1)\n",
    "renderer.GetActiveCamera().SetPosition(4, -0.7, -0.3)\n",
    "renderer.GetActiveCamera().SetViewUp(0.2, 0.9, 0.4)\n",
    "\n",
    "window = vtk.vtkRenderWindow()\n",
    "window.AddRenderer(renderer)\n",
    "window.SetSize(800, 800)\n",
    "window.SetOffScreenRendering(True)\n",
    "\n",
    "to_image = vtk.vtkWindowToImageFilter()\n",
    "to_image.SetInput(window)\n",
    "png_writer = vtk.vtkPNGWriter()\n",
    "png_writer.SetInputConnection(to_image.GetOutputPort())\n",
    "png_writer.SetFileName(\"anisotropic_diffusion.png\")\n",
    "png_writer.Write()"
   ]
  },
  {
   "cell_type": "code",
   "execution_count": 4,
   "id": "6d621468-afe1-4d28-a2d2-558e354b237c",
   "metadata": {},
   "outputs": [
    {
     "data": {
      "text/plain": [
       "0.6065306597126334"
      ]
     },
     "execution_count": 4,
     "metadata": {},
     "output_type": "execute_result"
    }
   ],
   "source": [
    "S_0"
   ]
  },
  {
   "cell_type": "code",
   "execution_count": null,
   "id": "d1222f5b-ccb5-4245-9d12-bf9ac19e1279",
   "metadata": {},
   "outputs": [],
   "source": []
  }
 ],
 "metadata": {
  "kernelspec": {
   "display_name": "Python 3 (ipykernel)",
   "language": "python",
   "name": "python3"
  },
  "language_info": {
   "codemirror_mode": {
    "name": "ipython",
    "version": 3
   },
   "file_extension": ".py",
   "mimetype": "text/x-python",
   "name": "python",
   "nbconvert_exporter": "python",
   "pygments_lexer": "ipython3",
   "version": "3.9.10"
  }
 },
 "nbformat": 4,
 "nbformat_minor": 5
}
