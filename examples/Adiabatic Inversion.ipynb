{
 "cells": [
  {
   "cell_type": "code",
   "execution_count": null,
   "metadata": {},
   "outputs": [],
   "source": [
    "import numpy as np\n",
    "import scipy.signal as sig\n",
    "import bokeh.plotting as bkp\n",
    "import bokeh.models as bkm\n",
    "bkp.output_notebook()\n",
    "\n",
    "from asl_bloch_sim import bloch, rf_design"
   ]
  },
  {
   "cell_type": "code",
   "execution_count": null,
   "metadata": {},
   "outputs": [],
   "source": [
    "duration = 2 # seconds\n",
    "dt = 0.0001 # seconds\n",
    "B0 = 3 # Tesla\n",
    "\n",
    "flip_angle = 180 # degrees\n",
    "rf_duration = 0.012 # seconds\n",
    "rf_bandwidth = 30000 # 250 # Hz\n",
    "rf_stretch = 60\n",
    "off_resonance = 400 # Hz\n",
    "spectrum_lines = 400\n",
    "\n",
    "T1 = 1.5 # seconds\n",
    "T2 = 0.1 # seconds"
   ]
  },
  {
   "cell_type": "code",
   "execution_count": null,
   "metadata": {},
   "outputs": [],
   "source": [
    "time = np.arange(0, duration, dt) # seconds\n",
    "rf_time = np.arange(-rf_duration / 2, rf_duration / 2, dt)\n",
    "\n",
    "rf_pulse_am, rf_pulse_fm = rf_design.adiabatic_pulse(flip_angle, rf_duration,\n",
    "                                                     rf_bandwidth, rf_stretch, dt)\n"
   ]
  },
  {
   "cell_type": "code",
   "execution_count": null,
   "metadata": {},
   "outputs": [],
   "source": [
    "rf_am = rf_design.extend(rf_pulse_am, duration, dt)\n",
    "rf_fm = rf_design.extend(rf_pulse_fm, duration, dt)\n",
    "\n",
    "dfz = np.linspace(0, off_resonance, spectrum_lines)\n",
    "B = bloch.construct_B_field(rf_am, rf_fm, dfz)"
   ]
  },
  {
   "cell_type": "code",
   "execution_count": null,
   "metadata": {},
   "outputs": [],
   "source": [
    "k = rf_design.adiabaticity(rf_pulse_am, rf_pulse_fm, B0, dt)"
   ]
  },
  {
   "cell_type": "code",
   "execution_count": null,
   "metadata": {},
   "outputs": [],
   "source": [
    "k.min()"
   ]
  },
  {
   "cell_type": "code",
   "execution_count": null,
   "metadata": {},
   "outputs": [],
   "source": [
    "# plot RF with bokeh\n",
    "plot = bkp.figure(width=800, height=400, title='RF pulse')\n",
    "\n",
    "plot.line(rf_time * 1e3, rf_pulse_am, line_width=2)\n",
    "plot.yaxis.axis_label = 'RF Amplitude (µT)'\n",
    "plot.y_range = bkm.Range1d(start=0, end=1.4e-4)\n",
    "plot.extra_y_ranges['freq'] = bkm.Range1d(start=-rf_bandwidth - 1e3, end=rf_bandwidth + 1e3)\n",
    "naxis = bkm.LinearAxis(y_range_name='freq', axis_label='Frequency (Hz)')\n",
    "plot.add_layout(naxis, 'right')\n",
    "plot.line(rf_time * 1e3, rf_pulse_fm, line_width=2, y_range_name='freq', color='green')\n",
    "\n",
    "plot.xaxis.axis_label = 'Time (ms)'\n",
    "\n",
    "bkp.show(plot)"
   ]
  },
  {
   "cell_type": "code",
   "execution_count": null,
   "metadata": {},
   "outputs": [],
   "source": [
    "mag = np.array([[0, 0, 1]]) # initial magnetization\n",
    "mags = np.array([mag := bloch.relax(bloch.precess(mag, B[step], dt), T1, T2, dt) for step in range(round(duration / dt))])"
   ]
  },
  {
   "cell_type": "code",
   "execution_count": null,
   "metadata": {},
   "outputs": [],
   "source": [
    "# plot magnetization with bokeh\n",
    "plot = bkp.figure(width=800, height=400, title='Beff')\n",
    "plot.line(time, B[:, 0, 0], line_width=2, legend_label='Bx', alpha=0.5)\n",
    "plot.line(time, B[:, 0, 1], line_width=2, legend_label='By', color='orange', alpha=0.5)\n",
    "plot.line(time, B[:, 0, 2], line_width=2, legend_label='Bz', color='green')\n",
    "plot.xaxis.axis_label = 'Time (s)'\n",
    "plot.yaxis.axis_label = 'Magnetization (a.u.)'\n",
    "plot.x_range = bkm.DataRange1d(start=0, end=0.14)\n",
    "bkp.show(plot)"
   ]
  },
  {
   "cell_type": "code",
   "execution_count": null,
   "metadata": {},
   "outputs": [],
   "source": [
    "# plot magnetization with bokeh\n",
    "plot = bkp.figure(width=800, height=400, title='Magnetization')\n",
    "plot.line(time, mags[:, 0, 0], line_width=2, legend_label='Mx', alpha=0.5)\n",
    "plot.line(time, mags[:, 0, 1], line_width=2, legend_label='My', color='orange', alpha=0.5)\n",
    "plot.line(time, mags[:, 0, 2], line_width=2, legend_label='Mz', color='green')\n",
    "plot.xaxis.axis_label = 'Time (s)'\n",
    "plot.yaxis.axis_label = 'Magnetization (a.u.)'\n",
    "plot.x_range = bkm.DataRange1d(start=0, end=0.14)\n",
    "bkp.show(plot)"
   ]
  },
  {
   "cell_type": "code",
   "execution_count": null,
   "metadata": {},
   "outputs": [],
   "source": [
    "# plot magnetization off-resonances with bokeh\n",
    "title = 'Longitudinal Magnetization with Off-Resonance Pulse'\n",
    "plot = bkp.figure(width=1000, height=500, title=title)\n",
    "for offres in range(0, end := mags.shape[1], end // 10):\n",
    "    alpha = 1 - offres / end\n",
    "    plot.line(time, mags[:, offres, 2], line_width=2, legend_label=f'{dfz[offres]:g} Hz',\n",
    "              alpha=alpha, color='green')\n",
    "plot.xaxis.axis_label = 'Time (s)'\n",
    "plot.yaxis.axis_label = 'Magnetization (a.u.)'\n",
    "plot.x_range = bkm.DataRange1d(start=0.01, end=0.05)\n",
    "bkp.show(plot)"
   ]
  },
  {
   "cell_type": "code",
   "execution_count": null,
   "metadata": {},
   "outputs": [],
   "source": [
    "flipped = np.argmin(mags[:, 0, 2], axis=0)\n",
    "plot = bkp.figure(width=800, height=400, title='Flipped Magnetization Spectrum')\n",
    "plot.line(dfz, mags[flipped, :, 2], line_width=2)\n",
    "plot.xaxis.axis_label = 'Off-Resonance Frequency (Hz)'\n",
    "plot.yaxis.axis_label = 'Magnetization (a.u.)'\n",
    "bkp.show(plot)"
   ]
  },
  {
   "cell_type": "code",
   "execution_count": null,
   "metadata": {},
   "outputs": [],
   "source": []
  }
 ],
 "metadata": {
  "kernelspec": {
   "display_name": "base",
   "language": "python",
   "name": "python3"
  },
  "language_info": {
   "codemirror_mode": {
    "name": "ipython",
    "version": 3
   },
   "file_extension": ".py",
   "mimetype": "text/x-python",
   "name": "python",
   "nbconvert_exporter": "python",
   "pygments_lexer": "ipython3",
   "version": "3.9.10"
  }
 },
 "nbformat": 4,
 "nbformat_minor": 2
}
