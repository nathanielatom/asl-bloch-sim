{
 "cells": [
  {
   "cell_type": "code",
   "execution_count": null,
   "metadata": {},
   "outputs": [],
   "source": [
    "import numpy as np\n",
    "import scipy.signal as sig\n",
    "import bokeh.plotting as bkp\n",
    "import bokeh.models as bkm\n",
    "bkp.output_notebook()\n",
    "\n",
    "# import os\n",
    "# os.environ['ARRAY_MODULE'] = 'numpy'\n",
    "from asl_bloch_sim import bloch, rf\n",
    "from asl_bloch_sim import xp, asnumpy"
   ]
  },
  {
   "cell_type": "code",
   "execution_count": null,
   "metadata": {},
   "outputs": [],
   "source": [
    "duration = 0.08 # seconds\n",
    "dt = 0.00001 # seconds\n",
    "\n",
    "flip_angle = 180 # degrees\n",
    "rf_duration = 0.012 # seconds\n",
    "rf_bandwidth = 2000 # Hz\n",
    "rf_stretch = 2.5\n",
    "rf_amplitude = 3e-5 # T\n",
    "\n",
    "off_resonance = 1600 # Hz\n",
    "spectrum_lines = 600\n",
    "B1_inhomogeneity = np.linspace(0.01, 1, 100) # fraction of B1\n",
    "\n",
    "T1 = 1.5 # seconds\n",
    "T2 = 0.1 # seconds"
   ]
  },
  {
   "cell_type": "code",
   "execution_count": null,
   "metadata": {},
   "outputs": [],
   "source": [
    "time = np.arange(0, duration, dt) # seconds\n",
    "rf_time = np.arange(-rf_duration / 2, rf_duration / 2, dt)\n",
    "\n",
    "rf_pulse_am, rf_pulse_fm = rf.adiabatic_pulse(flip_angle, rf_duration,\n",
    "                                              rf_bandwidth, rf_stretch, dt, amplitude=rf_amplitude)\n",
    "rf_am = rf.extend(rf_pulse_am, duration, dt)\n",
    "rf_fm = rf.extend(rf_pulse_fm, duration, dt)\n",
    "\n",
    "dfz = np.linspace(0, off_resonance, spectrum_lines)\n",
    "B = bloch.construct_B_field(rf_am, rf_fm=rf_fm, off_resonance=dfz, B1_sensitivity=B1_inhomogeneity)"
   ]
  },
  {
   "cell_type": "code",
   "execution_count": null,
   "metadata": {},
   "outputs": [],
   "source": [
    "B.size * 4 / 1e9 # GB"
   ]
  },
  {
   "cell_type": "code",
   "execution_count": null,
   "metadata": {},
   "outputs": [],
   "source": [
    "B.shape"
   ]
  },
  {
   "cell_type": "code",
   "execution_count": null,
   "metadata": {},
   "outputs": [],
   "source": [
    "type(B)"
   ]
  },
  {
   "cell_type": "code",
   "execution_count": null,
   "metadata": {},
   "outputs": [],
   "source": [
    "k = rf.adiabaticity(rf_pulse_am, rf_pulse_fm, dt)"
   ]
  },
  {
   "cell_type": "code",
   "execution_count": null,
   "metadata": {},
   "outputs": [],
   "source": [
    "k.min()"
   ]
  },
  {
   "cell_type": "code",
   "execution_count": null,
   "metadata": {},
   "outputs": [],
   "source": [
    "# plot RF with bokeh\n",
    "plot = bkp.figure(width=800, height=400, title='RF pulse')\n",
    "\n",
    "plot.line(rf_time * 1e3, rf_pulse_am * 1e6, line_width=2)\n",
    "plot.yaxis.axis_label = 'RF Amplitude (µT)'\n",
    "plot.y_range = bkm.Range1d(start=0, end=rf_amplitude * 1.1e6)\n",
    "plot.extra_y_ranges['freq'] = bkm.Range1d(start=-rf_bandwidth * 0.6, end=rf_bandwidth * 0.6)\n",
    "naxis = bkm.LinearAxis(y_range_name='freq', axis_label='Frequency (Hz)')\n",
    "plot.add_layout(naxis, 'right')\n",
    "plot.line(rf_time * 1e3, rf_pulse_fm, line_width=2, y_range_name='freq', color='green')\n",
    "\n",
    "plot.extra_y_ranges['k'] = bkm.Range1d(start=25, end=36)\n",
    "kaxis = bkm.LinearAxis(y_range_name='k', axis_label='log(adiabaticity)')\n",
    "plot.add_layout(kaxis, 'right')\n",
    "plot.line(rf_time * 1e3, np.log(k), line_width=2, y_range_name='k', color='pink')\n",
    "\n",
    "plot.xaxis.axis_label = 'Time (ms)'\n",
    "bkp.show(plot)"
   ]
  },
  {
   "cell_type": "code",
   "execution_count": null,
   "metadata": {},
   "outputs": [],
   "source": [
    "# plot magnetization with bokeh\n",
    "plot = bkp.figure(width=800, height=400, title='Beff')\n",
    "plot.line(time, asnumpy(B[:, 0, -1, 0] * 1e6), line_width=2, legend_label='Bx', alpha=0.5)\n",
    "plot.line(time, asnumpy(B[:, 0, -1, 1] * 1e6), line_width=2, legend_label='By', color='orange', alpha=0.5)\n",
    "plot.line(time, asnumpy(B[:, 0, -1, 2] * 1e6), line_width=2, legend_label='Bz', color='green')\n",
    "plot.xaxis.axis_label = 'Time (s)'\n",
    "plot.yaxis.axis_label = 'B (µT)'\n",
    "plot.x_range = bkm.DataRange1d(start=0, end=duration)\n",
    "plot.legend.click_policy = 'hide'\n",
    "bkp.show(plot)"
   ]
  },
  {
   "cell_type": "code",
   "execution_count": null,
   "metadata": {},
   "outputs": [],
   "source": [
    "mags = bloch.sim(B, T1, T2, duration, dt)"
   ]
  },
  {
   "cell_type": "code",
   "execution_count": null,
   "metadata": {},
   "outputs": [],
   "source": [
    "# plot magnetization with bokeh\n",
    "plot = bkp.figure(width=800, height=400, title='Magnetization')\n",
    "plot.line(time, asnumpy(mags[:, 0, -1, 0]), line_width=2, legend_label='Mx', alpha=0.5)\n",
    "plot.line(time, asnumpy(mags[:, 0, -1, 1]), line_width=2, legend_label='My', color='orange', alpha=0.5)\n",
    "plot.line(time, asnumpy(mags[:, 0, -1, 2]), line_width=2, legend_label='Mz', color='green')\n",
    "plot.xaxis.axis_label = 'Time (s)'\n",
    "plot.yaxis.axis_label = 'Magnetization (ref M0)'\n",
    "plot.x_range = bkm.DataRange1d(start=0, end=duration)\n",
    "plot.legend.click_policy = 'hide'\n",
    "bkp.show(plot)"
   ]
  },
  {
   "cell_type": "code",
   "execution_count": null,
   "metadata": {},
   "outputs": [],
   "source": [
    "# plot magnetization off-resonances with bokeh\n",
    "title = 'Longitudinal Magnetization with Off-Resonance Pulse'\n",
    "plot = bkp.figure(width=1000, height=500, title=title)\n",
    "for offres in range(0, end := mags.shape[1], end // 10):\n",
    "    alpha = 1 - offres / end\n",
    "    plot.line(time, asnumpy(mags[:, offres, -1, 2]), line_width=2, legend_label=f'{dfz[offres]:g} Hz',\n",
    "              alpha=alpha, color='green')\n",
    "plot.xaxis.axis_label = 'Time (s)'\n",
    "plot.yaxis.axis_label = 'Magnetization (a.u.)'\n",
    "plot.x_range = bkm.DataRange1d(start=0, end=duration)\n",
    "plot.legend.click_policy = 'hide'\n",
    "bkp.show(plot)"
   ]
  },
  {
   "cell_type": "code",
   "execution_count": null,
   "metadata": {},
   "outputs": [],
   "source": [
    "plot = bkp.figure(width=800, height=400, title=f'Flipped Magnetization Spectrum for {rf_bandwidth} Hz bandwidth')\n",
    "plot.line(asnumpy(dfz), asnumpy(mags.min(axis=0)[:, -1, -1]), line_width=2)\n",
    "plot.xaxis.axis_label = 'Off-Resonance Frequency (Hz)'\n",
    "plot.yaxis.axis_label = 'Magnetization (ref M0)'\n",
    "plot.y_range = bkm.DataRange1d(start=-1, end=1)\n",
    "bkp.show(plot)"
   ]
  },
  {
   "cell_type": "code",
   "execution_count": null,
   "metadata": {},
   "outputs": [],
   "source": [
    "freq = asnumpy(dfz)\n",
    "b1 = asnumpy(B1_inhomogeneity)\n",
    "minmag = asnumpy(mags.min(axis=0)[..., -1].T)\n",
    "\n",
    "title = 'Inverted Magnetization Spectrum'\n",
    "plot = bkp.figure(width=1000, height=500, title=title)\n",
    "color_mapper = bkm.LinearColorMapper(palette='Viridis256', low=-1, high=1)\n",
    "image = plot.image([minmag], y=[b1.min()], x=[freq.min()],\n",
    "                   dh=[b1.max() - b1.min()],\n",
    "                   dw=[freq.max() - freq.min()], color_mapper=color_mapper)\n",
    "plot.xaxis.axis_label = 'Off-Resonance Frequency (Hz)'\n",
    "plot.yaxis.axis_label = 'B1 Inhomogeneity'\n",
    "plot.x_range = bkm.DataRange1d(start=freq.min(), end=freq.max())\n",
    "plot.y_range = bkm.DataRange1d(start=b1.min(), end=b1.max())\n",
    "\n",
    "# add colourbar\n",
    "color_bar = bkm.ColorBar(color_mapper=color_mapper, location=(0, 0))\n",
    "color_bar.title = 'Min Magnetization (ref M0)'\n",
    "plot.add_layout(color_bar, 'right')\n",
    "\n",
    "# bkp.output_file(f'{title}.html')\n",
    "# bkp.save(plot)\n",
    "bkp.show(plot)"
   ]
  },
  {
   "cell_type": "code",
   "execution_count": null,
   "metadata": {},
   "outputs": [],
   "source": []
  },
  {
   "cell_type": "code",
   "execution_count": null,
   "metadata": {},
   "outputs": [],
   "source": [
    "mags.shape"
   ]
  },
  {
   "cell_type": "code",
   "execution_count": null,
   "metadata": {},
   "outputs": [],
   "source": [
    "np.nonzero(time == 0.012)"
   ]
  },
  {
   "cell_type": "code",
   "execution_count": null,
   "metadata": {},
   "outputs": [],
   "source": [
    "B.shape"
   ]
  },
  {
   "cell_type": "code",
   "execution_count": null,
   "metadata": {},
   "outputs": [],
   "source": [
    "Beff = B[:1200, 0, -1] * 1e6\n",
    "magnets = mags[:1200, 0, -1]\n",
    "ts = time[:1200]"
   ]
  },
  {
   "cell_type": "code",
   "execution_count": null,
   "metadata": {},
   "outputs": [],
   "source": [
    "# plot magnetization with bokeh\n",
    "plot = bkp.figure(width=800, height=400, title='Beff')\n",
    "plot.line(ts, asnumpy(Beff[..., 0]), line_width=2, legend_label='Bx', alpha=0.5)\n",
    "plot.line(ts, asnumpy(Beff[..., 1]), line_width=2, legend_label='By', color='orange', alpha=0.5)\n",
    "plot.line(ts, asnumpy(Beff[..., 2]), line_width=2, legend_label='Bz', color='green')\n",
    "plot.xaxis.axis_label = 'Time (s)'\n",
    "plot.yaxis.axis_label = 'B (µT)'\n",
    "plot.x_range = bkm.DataRange1d(start=0, end=ts[-1])\n",
    "plot.legend.click_policy = 'hide'\n",
    "bkp.show(plot)"
   ]
  },
  {
   "cell_type": "code",
   "execution_count": null,
   "metadata": {},
   "outputs": [],
   "source": [
    "# plot magnetization with bokeh\n",
    "plot = bkp.figure(width=800, height=400, title='Magnetization')\n",
    "plot.line(time, asnumpy(magnets[..., 0]), line_width=2, legend_label='Mx', alpha=0.5)\n",
    "plot.line(time, asnumpy(magnets[..., 1]), line_width=2, legend_label='My', color='orange', alpha=0.5)\n",
    "plot.line(time, asnumpy(magnets[..., 2]), line_width=2, legend_label='Mz', color='green')\n",
    "plot.xaxis.axis_label = 'Time (s)'\n",
    "plot.yaxis.axis_label = 'Magnetization (ref M0)'\n",
    "plot.x_range = bkm.DataRange1d(start=0, end=ts[-1])\n",
    "plot.legend.click_policy = 'hide'\n",
    "bkp.show(plot)"
   ]
  },
  {
   "cell_type": "code",
   "execution_count": null,
   "metadata": {},
   "outputs": [],
   "source": [
    "ts.shape"
   ]
  },
  {
   "cell_type": "code",
   "execution_count": null,
   "metadata": {},
   "outputs": [],
   "source": []
  },
  {
   "cell_type": "code",
   "execution_count": null,
   "metadata": {},
   "outputs": [],
   "source": [
    "import scipy.signal as sig"
   ]
  },
  {
   "cell_type": "code",
   "execution_count": null,
   "metadata": {},
   "outputs": [],
   "source": [
    "def rescale(arr, ogtime, newtime):\n",
    "    # return sig.resample(arr, newtime.size, axis=0, window='hann')\n",
    "    # return sig.resample_poly(arr, 1, ogtime.size // newtime.size, axis=0, padtype='maximum')\n",
    "    return arr[::ogtime.size // newtime.size]"
   ]
  },
  {
   "cell_type": "code",
   "execution_count": null,
   "metadata": {},
   "outputs": [],
   "source": [
    "anim_duration = 12 # s\n",
    "sample_rate = 10 # Hz\n",
    "\n",
    "anim_time = np.arange(0, anim_duration, 1/sample_rate)\n",
    "anim_m = rescale(asnumpy(magnets), ts, anim_time)\n",
    "anim_b = rescale(asnumpy(Beff), ts, anim_time)"
   ]
  },
  {
   "cell_type": "code",
   "execution_count": null,
   "metadata": {},
   "outputs": [],
   "source": [
    "# plot magnetization with bokeh\n",
    "plot = bkp.figure(width=800, height=400, title='Beff')\n",
    "plot.line(anim_time, anim_b[..., 0], line_width=2, legend_label='Bx', alpha=0.5)\n",
    "plot.line(anim_time, anim_b[..., 1], line_width=2, legend_label='By', color='orange', alpha=0.5)\n",
    "plot.line(anim_time, anim_b[..., 2], line_width=2, legend_label='Bz', color='green')\n",
    "plot.xaxis.axis_label = 'Time (s)'\n",
    "plot.yaxis.axis_label = 'B (µT)'\n",
    "plot.x_range = bkm.DataRange1d(start=0, end=anim_time[-1])\n",
    "plot.legend.click_policy = 'hide'\n",
    "bkp.show(plot)"
   ]
  },
  {
   "cell_type": "code",
   "execution_count": null,
   "metadata": {},
   "outputs": [],
   "source": [
    "# plot magnetization with bokeh\n",
    "plot = bkp.figure(width=800, height=400, title='Magnetization')\n",
    "plot.line(anim_time, anim_m[..., 0], line_width=2, legend_label='Mx', alpha=0.5)\n",
    "plot.line(anim_time, anim_m[..., 1], line_width=2, legend_label='My', color='orange', alpha=0.5)\n",
    "plot.line(anim_time, anim_m[..., 2], line_width=2, legend_label='Mz', color='green')\n",
    "plot.xaxis.axis_label = 'Time (s)'\n",
    "plot.yaxis.axis_label = 'Magnetization (ref M0)'\n",
    "plot.x_range = bkm.DataRange1d(start=0, end=anim_time[-1])\n",
    "plot.legend.click_policy = 'hide'\n",
    "bkp.show(plot)"
   ]
  },
  {
   "cell_type": "code",
   "execution_count": null,
   "metadata": {},
   "outputs": [],
   "source": [
    "speed = np.diff(ts)[0] / np.diff(anim_time)[0]\n",
    "speed"
   ]
  },
  {
   "cell_type": "code",
   "execution_count": null,
   "metadata": {},
   "outputs": [],
   "source": [
    "np.savez_compressed('mags.npz', mags=anim_m, beff=anim_b, time=anim_time, speed=speed)"
   ]
  },
  {
   "cell_type": "code",
   "execution_count": null,
   "metadata": {},
   "outputs": [],
   "source": []
  }
 ],
 "metadata": {
  "kernelspec": {
   "display_name": "Python 3 (ipykernel)",
   "language": "python",
   "name": "python3"
  },
  "language_info": {
   "codemirror_mode": {
    "name": "ipython",
    "version": 3
   },
   "file_extension": ".py",
   "mimetype": "text/x-python",
   "name": "python",
   "nbconvert_exporter": "python",
   "pygments_lexer": "ipython3",
   "version": "3.9.10"
  }
 },
 "nbformat": 4,
 "nbformat_minor": 4
}
