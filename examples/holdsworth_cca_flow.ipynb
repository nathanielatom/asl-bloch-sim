{
 "cells": [
  {
   "cell_type": "code",
   "execution_count": null,
   "metadata": {},
   "outputs": [],
   "source": [
    "from asl_bloch_sim import flow\n",
    "import matplotlib.pyplot as plt"
   ]
  },
  {
   "cell_type": "code",
   "execution_count": null,
   "metadata": {},
   "outputs": [],
   "source": [
    "fig, ax = plt.subplots(figsize=(6.5, 4))\n",
    "t, v, p = flow.holdsworth_cca(diastolic_velocity=15)\n",
    "ax.plot(t, v, label='Velocity (cm/s)')\n",
    "ax.plot(t, p, label='Position (cm)')\n",
    "# ax.plot(x, y, 'o', label='data')\n",
    "# ax.plot(xs, cs(xs), label=\"Cubic spline\")\n",
    "# ax.plot(xs, cs(xs, 1), label=\"S'\")\n",
    "# ax.plot(xs, cs(xs, 2), label=\"S''\")\n",
    "# ax.plot(xs, cs(xs, 3), label=\"S'''\")\n",
    "# ax.legend(loc='upper right', ncol=2)\n",
    "plt.xlabel('Time (s)')\n",
    "plt.ylabel('Flow')\n",
    "plt.title('Common Carotid Artery Flow Waveform')\n",
    "plt.show()"
   ]
  },
  {
   "cell_type": "code",
   "execution_count": null,
   "metadata": {},
   "outputs": [],
   "source": []
  }
 ],
 "metadata": {
  "kernelspec": {
   "display_name": "base",
   "language": "python",
   "name": "python3"
  },
  "language_info": {
   "codemirror_mode": {
    "name": "ipython",
    "version": 3
   },
   "file_extension": ".py",
   "mimetype": "text/x-python",
   "name": "python",
   "nbconvert_exporter": "python",
   "pygments_lexer": "ipython3",
   "version": "3.9.10"
  }
 },
 "nbformat": 4,
 "nbformat_minor": 2
}
