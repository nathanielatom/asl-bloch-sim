{
 "cells": [
  {
   "cell_type": "code",
   "execution_count": null,
   "metadata": {},
   "outputs": [],
   "source": [
    "import numpy as np\n",
    "import scipy.signal as sig\n",
    "import bokeh.plotting as bkp\n",
    "import bokeh.models as bkm\n",
    "bkp.output_notebook()\n",
    "\n",
    "import os\n",
    "os.environ['ARRAY_MODULE'] = 'numpy'\n",
    "from asl_bloch_sim import bloch, rf\n",
    "from asl_bloch_sim import xp, asnumpy"
   ]
  },
  {
   "cell_type": "code",
   "execution_count": null,
   "metadata": {},
   "outputs": [],
   "source": [
    "dt = 0.00002 # seconds\n",
    "# PCASL: A typical real sequence may use 750 0.5 ms, 20º, Hann RF pulses over a 1500 ms period\n",
    "# 750 pulses with these durations corresponds to a duty cycle of 0.5\n",
    "duration = 2.5 # seconds\n",
    "label_duration = 2 # seconds\n",
    "num_reps = 2500\n",
    "\n",
    "flip_angle = 20 # degrees\n",
    "rf_duration = 0.0005 # seconds\n",
    "rf_bandwidth = 500 # Hz\n",
    "\n",
    "G_max = 0.03 # T/m\n",
    "G_avg = 2e-3 # T/m\n",
    "S_max = 150 # T/m/s # look up max skew rate for your scanner\n",
    "\n",
    "off_resonance = 2000 # Hz\n",
    "spectrum_lines = 11\n",
    "B1_inhomogeneity = np.linspace(0.05, 1, 20) # fraction of B1\n",
    "\n",
    "T1 = 1.65 # seconds # https://doi.org/10.1002/mrm.25197\n",
    "T2 = 0.186 # seconds # https://doi.org/10.1002/mrm.21858"
   ]
  },
  {
   "cell_type": "code",
   "execution_count": null,
   "metadata": {},
   "outputs": [],
   "source": [
    "labelling_plane_thickness = rf_bandwidth / (bloch.GAMMA_BAR * G_max) # m\n",
    "labelling_plane_thickness * 1e3 # mm"
   ]
  },
  {
   "cell_type": "code",
   "execution_count": null,
   "metadata": {},
   "outputs": [],
   "source": [
    "DeltaT = label_duration / num_reps\n",
    "DeltaT * 1e6 # µs"
   ]
  },
  {
   "cell_type": "code",
   "execution_count": null,
   "metadata": {},
   "outputs": [],
   "source": [
    "1/DeltaT # Hz"
   ]
  },
  {
   "cell_type": "code",
   "execution_count": null,
   "metadata": {},
   "outputs": [],
   "source": [
    "rf_duration / DeltaT"
   ]
  },
  {
   "cell_type": "code",
   "execution_count": null,
   "metadata": {},
   "outputs": [],
   "source": [
    "G_min = (G_avg - G_max * (rf_duration / DeltaT)) / (1 - rf_duration/DeltaT)\n",
    "G_min # T/m"
   ]
  },
  {
   "cell_type": "code",
   "execution_count": null,
   "metadata": {},
   "outputs": [],
   "source": [
    "flowrate = 1e-3 # cm/ms\n",
    "position_offset = 0.04 # 0.091 # 0.1 #  # m\n",
    "pulse = 1.33333333333e-3 # kHz lol\n",
    "systolic_minus_diastolic = np.linspace(1e-3, 100e-3, 50)[:, np.newaxis] # 24e-3 # cm/ms\n",
    "\n",
    "def calc_blood_flow(t, random_phase=False, phase=-np.pi/16):\n",
    "    \"\"\"\n",
    "    Return speed in m/s for time in seconds.\n",
    "    \"\"\"\n",
    "    t = t * 1000 # convert to ms\n",
    "    phase = np.random.uniform(low=0, high=2*np.pi) if random_phase else phase\n",
    "    pulse_train = 0.5*sig.square(2*np.pi*pulse*t + phase, duty=0.001) + 0.5\n",
    "    exp_decay = np.heaviside(t, 1) * np.exp(-5*pulse*t) * 5*pulse*t\n",
    "    exp_train = sig.convolve(exp_decay, pulse_train, mode='full')[len(t)//4:len(t)+len(t)//4]\n",
    "    velocity = systolic_minus_diastolic * exp_train / exp_train.max() + flowrate\n",
    "    return velocity * 10 # cm/ms to m/s\n",
    "\n",
    "def calc_trajectory(t):\n",
    "    \"\"\"\n",
    "    Return position in metres for time in seconds.\n",
    "    \"\"\"\n",
    "    ret_scalar = False\n",
    "    if np.isscalar(t):\n",
    "        t = np.linspace(0, t, 1000)\n",
    "        ret_scalar = True\n",
    "    dt = t[1] - t[0]\n",
    "    pos = np.cumsum(calc_blood_flow(t)*dt, axis=-1) - position_offset\n",
    "    if ret_scalar:\n",
    "        return pos[-1]\n",
    "    return pos\n",
    "\n",
    "fs = 10000 # Hz\n",
    "length = 3 # seconds\n",
    "t = np.linspace(0, length, length * fs)\n",
    "blood_flow_arr = calc_blood_flow(t)\n",
    "trajectory_arr = calc_trajectory(t)\n",
    "\n",
    "blood_flow = lambda t: blood_flow_arr[:, np.round(t * fs).astype(int)].T\n",
    "trajectory = lambda t: trajectory_arr[:, np.round(t * fs).astype(int)].T"
   ]
  },
  {
   "cell_type": "code",
   "execution_count": null,
   "metadata": {},
   "outputs": [],
   "source": [
    "# bokeh plot for blood flow\n",
    "p = bkp.figure(width=800, height=300, title='Blood flow')\n",
    "p.line(t, blood_flow_arr[-1], line_width=2)\n",
    "p.xaxis.axis_label = 'Time (s)'\n",
    "p.yaxis.axis_label = 'Speed (m/s)'\n",
    "bkp.show(p)"
   ]
  },
  {
   "cell_type": "code",
   "execution_count": null,
   "metadata": {},
   "outputs": [],
   "source": [
    "# bokeh plot for trajectory\n",
    "p = bkp.figure(width=800, height=300, title='Blood flow', x_range=(t[0], t[-1]))\n",
    "p.line(t, trajectory_arr[-1], line_width=2, legend_label='Position')\n",
    "p.xaxis.axis_label = 'Time (s)'\n",
    "p.yaxis.axis_label = 'Position (m)'\n",
    "p.line([t[0], t[-1]], [0] * 2, line_color='red', line_width=2,\n",
    "       line_dash='dashed', legend_label='Labeling plane')\n",
    "p.legend.click_policy = 'hide'\n",
    "p.legend.location = 'top_left'\n",
    "# bkp.output_file('blood_trajectory.html')\n",
    "# bkp.save(p)\n",
    "bkp.show(p)\n"
   ]
  },
  {
   "cell_type": "code",
   "execution_count": null,
   "metadata": {},
   "outputs": [],
   "source": [
    "trajectory(0) * 100, trajectory(label_duration) * 100 # cm"
   ]
  },
  {
   "cell_type": "code",
   "execution_count": null,
   "metadata": {},
   "outputs": [],
   "source": [
    "(G_max / G_avg) / (DeltaT / rf_duration) # >> 1 for no aliased labelling planes"
   ]
  },
  {
   "cell_type": "code",
   "execution_count": null,
   "metadata": {},
   "outputs": [],
   "source": [
    "time = np.arange(0, duration, dt) # seconds\n",
    "position = trajectory(time)[..., np.newaxis] # meters\n",
    "rf_time = np.arange(-rf_duration / 2, rf_duration / 2, dt)\n",
    "\n",
    "rf_pulse = rf.sinc_pulse(flip_angle, rf_duration, rf_bandwidth, dt, phase_angle=90)\n",
    "rf_period = rf.extend(rf_pulse, label_duration / num_reps, dt)\n",
    "rf_label = np.tile(rf_period, num_reps)\n",
    "rf_sig = rf.extend(rf_label, duration, dt)\n",
    "\n",
    "G_period = np.append(np.full_like(rf_time, G_max), np.full(round((DeltaT - rf_duration) / dt), G_min))\n",
    "G = rf.extend(np.tile(G_period, num_reps), duration, dt)[:, np.newaxis, np.newaxis]\n",
    "\n",
    "dfz = np.linspace(0, off_resonance, spectrum_lines) # Hz\n",
    "B = bloch.construct_B_field(rf_sig, G, position, off_resonance=dfz, B1_sensitivity=B1_inhomogeneity)"
   ]
  },
  {
   "cell_type": "code",
   "execution_count": null,
   "metadata": {},
   "outputs": [],
   "source": [
    "B.shape"
   ]
  },
  {
   "cell_type": "code",
   "execution_count": null,
   "metadata": {},
   "outputs": [],
   "source": [
    "abs(rf_sig.mean()) * 1e6 # µT"
   ]
  },
  {
   "cell_type": "code",
   "execution_count": null,
   "metadata": {},
   "outputs": [],
   "source": [
    "(1 / (bloch.GAMMA_BAR * np.abs(rf_sig).max())) / dt # >> 1"
   ]
  },
  {
   "cell_type": "code",
   "execution_count": null,
   "metadata": {},
   "outputs": [],
   "source": [
    "T2 / dt # >> 1"
   ]
  },
  {
   "cell_type": "code",
   "execution_count": null,
   "metadata": {},
   "outputs": [],
   "source": [
    "# plot RF with bokeh\n",
    "plot = bkp.figure(width=800, height=400, title='RF pulse')\n",
    "plot.line(rf_time * 1e3, rf_pulse.real * 1e6, line_width=2)\n",
    "plot.line(rf_time * 1e3, rf_pulse.imag * 1e6, line_width=2, color='orange')\n",
    "plot.xaxis.axis_label = 'Time (ms)'\n",
    "plot.yaxis.axis_label = 'RF Amplitude (µT)'\n",
    "bkp.show(plot)"
   ]
  },
  {
   "cell_type": "code",
   "execution_count": null,
   "metadata": {},
   "outputs": [],
   "source": [
    "NFFT = 2 ** 17\n",
    "freq = np.fft.fftshift(np.fft.fftfreq(NFFT, dt))\n",
    "# signal = np.append(rf_design.extend(rf_pulse, label_duration / num_reps, dt),\n",
    "#                    rf_design.extend(rf_pulse * -1, label_duration / num_reps, dt)).real\n",
    "amp = np.log10(np.abs(np.fft.fftshift(np.fft.fft(rf_sig.real, n=NFFT))) / 1e-6) * 20\n",
    "# plot RF with bokeh\n",
    "plot = bkp.figure(width=800, height=400, title='RF pulse')\n",
    "plot.line(freq, amp, line_width=2)\n",
    "plot.xaxis.axis_label = 'Frequency (Hz)'\n",
    "plot.yaxis.axis_label = 'RF Amplitude (µT)'\n",
    "bkp.show(plot)"
   ]
  },
  {
   "cell_type": "code",
   "execution_count": null,
   "metadata": {},
   "outputs": [],
   "source": [
    "# plot RF with bokeh\n",
    "plot = bkp.figure(width=800, height=400, title='RF pulses')\n",
    "plot.line(time, rf_sig.real * 1e6, line_width=2, alpha=0.5)\n",
    "plot.line(time, rf_sig.imag * 1e6, line_width=2, color='orange', alpha=0.5)\n",
    "plot.xaxis.axis_label = 'Time (s)'\n",
    "plot.yaxis.axis_label = 'RF Amplitude (µT)'\n",
    "bkp.show(plot)"
   ]
  },
  {
   "cell_type": "code",
   "execution_count": null,
   "metadata": {},
   "outputs": [],
   "source": [
    "# plot gradients with bokeh\n",
    "plot = bkp.figure(width=800, height=400, title='Gradient pulses')\n",
    "plot.line(time, G[..., 0, 0], line_width=2, alpha=0.5, color='green')\n",
    "plot.xaxis.axis_label = 'Time (s)'\n",
    "plot.yaxis.axis_label = 'Gradient Amplitude (T/m)'\n",
    "bkp.show(plot)"
   ]
  },
  {
   "cell_type": "code",
   "execution_count": null,
   "metadata": {},
   "outputs": [],
   "source": [
    "B.shape"
   ]
  },
  {
   "cell_type": "code",
   "execution_count": null,
   "metadata": {},
   "outputs": [],
   "source": [
    "B.size * B.itemsize / 1e9 # GB"
   ]
  },
  {
   "cell_type": "code",
   "execution_count": null,
   "metadata": {},
   "outputs": [],
   "source": [
    "type(B)"
   ]
  },
  {
   "cell_type": "code",
   "execution_count": null,
   "metadata": {},
   "outputs": [],
   "source": [
    "mags = bloch.sim(B, T1, T2, duration, dt)"
   ]
  },
  {
   "cell_type": "code",
   "execution_count": null,
   "metadata": {},
   "outputs": [],
   "source": [
    "mags.shape"
   ]
  },
  {
   "cell_type": "code",
   "execution_count": null,
   "metadata": {},
   "outputs": [],
   "source": [
    "# plot magnetization with bokeh\n",
    "plot = bkp.figure(width=800, height=400, title='Magnetization')\n",
    "plot.line(time, mags[:, 25, 0, -1, 0], line_width=2, legend_label='Mx', alpha=0.5)\n",
    "plot.line(time, mags[:, 25, 0, -1, 1], line_width=2, legend_label='My', color='orange', alpha=0.5)\n",
    "plot.line(time, mags[:, 25, 0, -1, 2], line_width=2, legend_label='Mz', color='green')\n",
    "plot.xaxis.axis_label = 'Time (s)'\n",
    "plot.yaxis.axis_label = 'Magnetization (ref M0)'\n",
    "plot.x_range = bkm.DataRange1d(start=0, end=duration)\n",
    "plot.legend.click_policy = 'hide'\n",
    "\n",
    "# bkp.output_file('magnetization_time_signal.html')\n",
    "# bkp.save(plot)\n",
    "bkp.show(plot)"
   ]
  },
  {
   "cell_type": "code",
   "execution_count": null,
   "metadata": {},
   "outputs": [],
   "source": [
    "# plot magnetization off-resonances with bokeh\n",
    "title = 'Longitudinal Magnetization with Off-Resonance Pulse'\n",
    "plot = bkp.figure(width=1000, height=500, title=title)\n",
    "for offres in range(0, end := mags.shape[2], end // 10):\n",
    "    alpha = 1 - offres / end\n",
    "    plot.line(time, mags[:, 25, offres, -1, 2], line_width=2, legend_label=f'{dfz[offres]:g} Hz',\n",
    "              alpha=alpha, color='green')\n",
    "plot.xaxis.axis_label = 'Time (s)'\n",
    "plot.yaxis.axis_label = 'Magnetization (ref M0)'\n",
    "plot.x_range = bkm.DataRange1d(start=0, end=duration)\n",
    "plot.legend.click_policy = 'hide'\n",
    "bkp.show(plot)"
   ]
  },
  {
   "cell_type": "code",
   "execution_count": null,
   "metadata": {},
   "outputs": [],
   "source": [
    "# plot magnetization flow rates with bokeh\n",
    "title = 'Longitudinal Magnetization with Max Pulsatile Blood Flow Velocity'\n",
    "plot = bkp.figure(width=1000, height=500, title=title)\n",
    "for index in range(0, end := mags.shape[1], end // 10):\n",
    "    alpha = 1 - index / end\n",
    "    plot.line(time, mags[:, index, 0, -1, 2], line_width=2, legend_label=f'{100 * blood_flow_arr[index].max():.3g} cm/s',\n",
    "              alpha=alpha, color='green')\n",
    "plot.xaxis.axis_label = 'Time (s)'\n",
    "plot.yaxis.axis_label = 'Magnetization (ref M0)'\n",
    "plot.x_range = bkm.DataRange1d(start=0, end=duration)\n",
    "plot.legend.click_policy = 'hide'\n",
    "bkp.show(plot)"
   ]
  },
  {
   "cell_type": "code",
   "execution_count": null,
   "metadata": {},
   "outputs": [],
   "source": [
    "flipped = np.argmin(mags[..., 10, :, -1, 2], axis=0)\n",
    "plot = bkp.figure(width=800, height=400, title='Flipped Magnetization Spectrum')\n",
    "plot.line(dfz, np.take_along_axis(mags[..., 10, :, -1, 2], flipped[np.newaxis], axis=0)[0],\n",
    "          line_width=2, legend_label='Min Mz')\n",
    "plot.line(dfz, time[flipped], line_width=2, color='red', legend_label='Time of Min Mz (s)')\n",
    "plot.xaxis.axis_label = 'Off-Resonance Frequency (Hz)'\n",
    "plot.yaxis.axis_label = 'Magnetization (ref M0)'\n",
    "plot.y_range = bkm.DataRange1d(start=-1, end=1)\n",
    "plot.legend.click_policy = 'hide'\n",
    "bkp.show(plot)"
   ]
  },
  {
   "cell_type": "code",
   "execution_count": null,
   "metadata": {},
   "outputs": [],
   "source": [
    "# calculate the labelling efficiency as an average of a window after the minimum Mz\n",
    "post_min_window = 0.025 # seconds # depends on T1\n",
    "avg_min_long_mag = np.take_along_axis(mags[..., 10, :, -1, 2], flipped[np.newaxis] + np.arange(round(post_min_window / dt))[:, np.newaxis], axis=0).mean(axis=0)\n",
    "plot = bkp.figure(width=800, height=400, title='Average Minimum Longitudinal Magnetization Spectrum')\n",
    "plot.line(dfz, avg_min_long_mag, line_width=2)\n",
    "plot.xaxis.axis_label = 'Off-Resonance Frequency (Hz)'\n",
    "plot.yaxis.axis_label = 'Magnetization (ref M0)'\n",
    "plot.y_range = bkm.DataRange1d(start=-1, end=1)\n",
    "# bkp.output_file('magnetization_spectrum.html')\n",
    "# bkp.save(plot)\n",
    "bkp.show(plot)"
   ]
  },
  {
   "cell_type": "code",
   "execution_count": null,
   "metadata": {},
   "outputs": [],
   "source": [
    "avg_min_long_mag.min()"
   ]
  },
  {
   "cell_type": "code",
   "execution_count": null,
   "metadata": {},
   "outputs": [],
   "source": [
    "mags.shape"
   ]
  },
  {
   "cell_type": "code",
   "execution_count": null,
   "metadata": {},
   "outputs": [],
   "source": [
    "flow = asnumpy(100 * blood_flow_arr.max(axis=-1)) # cm/s\n",
    "b1 = asnumpy(B1_inhomogeneity)\n",
    "minmag = asnumpy(mags[..., 0, :, -1].min(axis=0).T)\n",
    "\n",
    "title = 'Inverted Magnetization'\n",
    "plot = bkp.figure(width=1000, height=500, title=title)\n",
    "color_mapper = bkm.LinearColorMapper(palette='Viridis256', low=-1, high=1)\n",
    "image = plot.image([minmag], y=[b1.min()], x=[flow.min()],\n",
    "                   dh=[b1.max() - b1.min()],\n",
    "                   dw=[flow.max() - flow.min()], color_mapper=color_mapper)\n",
    "plot.xaxis.axis_label = 'Max Pulsatile Blood Flow Velocity (cm/s)'\n",
    "plot.yaxis.axis_label = 'B1 Inhomogeneity'\n",
    "plot.x_range = bkm.DataRange1d(start=0, end=100) #flow.min(), end=flow.max())\n",
    "plot.y_range = bkm.DataRange1d(start=b1.min(), end=b1.max())\n",
    "\n",
    "# add colourbar\n",
    "color_bar = bkm.ColorBar(color_mapper=color_mapper, location=(0, 0))\n",
    "color_bar.title = 'Min Magnetization (ref M0)'\n",
    "plot.add_layout(color_bar, 'right')\n",
    "\n",
    "bkp.output_file(f'{title}.html')\n",
    "bkp.save(plot)\n",
    "# bkp.show(plot)"
   ]
  },
  {
   "cell_type": "code",
   "execution_count": null,
   "metadata": {},
   "outputs": [],
   "source": [
    "# save mags, B_field, time compressed numpy file\n",
    "# np.savez_compressed('asl_simulation.npz', mags=mags[:, 0], B_field=B[:, 0], time=time)"
   ]
  },
  {
   "cell_type": "code",
   "execution_count": null,
   "metadata": {},
   "outputs": [],
   "source": []
  }
 ],
 "metadata": {
  "kernelspec": {
   "display_name": "base",
   "language": "python",
   "name": "python3"
  },
  "language_info": {
   "codemirror_mode": {
    "name": "ipython",
    "version": 3
   },
   "file_extension": ".py",
   "mimetype": "text/x-python",
   "name": "python",
   "nbconvert_exporter": "python",
   "pygments_lexer": "ipython3",
   "version": "3.9.10"
  }
 },
 "nbformat": 4,
 "nbformat_minor": 2
}
