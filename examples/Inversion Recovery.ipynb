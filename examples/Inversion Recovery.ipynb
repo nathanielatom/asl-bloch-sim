{
 "cells": [
  {
   "cell_type": "code",
   "execution_count": null,
   "metadata": {},
   "outputs": [],
   "source": [
    "import bokeh.plotting as bkp\n",
    "import bokeh.models as bkm\n",
    "bkp.output_notebook()\n",
    "\n",
    "import os\n",
    "os.environ['ARRAY_MODULE'] = 'numpy'\n",
    "from asl_bloch_sim import bloch, rf\n",
    "from asl_bloch_sim import xp, asnumpy\n",
    "import numpy as np"
   ]
  },
  {
   "cell_type": "code",
   "execution_count": null,
   "metadata": {},
   "outputs": [],
   "source": [
    "duration = 0.20 # seconds\n",
    "dt = 0.00025 # seconds\n",
    "\n",
    "flip_angle = 180 # degrees\n",
    "rf_duration = 0.040 # seconds\n",
    "rf_bandwidth = np.linspace(250, 2000, 9) # Hz\n",
    "B1_inhomogeneity = np.linspace(0.01, 1, 100) # fraction of B1\n",
    "\n",
    "off_resonance = 1600 # Hz\n",
    "spectrum_lines = 600\n",
    "\n",
    "T1 = 1.5 # seconds\n",
    "T2 = 0.1 # seconds"
   ]
  },
  {
   "cell_type": "code",
   "execution_count": null,
   "metadata": {},
   "outputs": [],
   "source": [
    "time = np.arange(0, duration, dt) # seconds\n",
    "rf_time = np.arange(-rf_duration / 2, rf_duration / 2, dt)\n",
    "\n",
    "rf_pulse = np.array([rf.sinc_pulse(flip_angle, rf_duration, bw.item(), dt).real for bw in rf_bandwidth]).T\n",
    "rf_sig = rf.extend(rf_pulse, duration, dt)\n",
    "dfz = np.linspace(0, off_resonance, spectrum_lines) # Hz\n",
    "\n",
    "B = bloch.construct_B_field(rf_sig, off_resonance=dfz, B1_sensitivity=B1_inhomogeneity)"
   ]
  },
  {
   "cell_type": "code",
   "execution_count": null,
   "metadata": {},
   "outputs": [],
   "source": [
    "B.shape"
   ]
  },
  {
   "cell_type": "code",
   "execution_count": null,
   "metadata": {},
   "outputs": [],
   "source": [
    "B.size * 4 / 1e9 # GB"
   ]
  },
  {
   "cell_type": "code",
   "execution_count": null,
   "metadata": {},
   "outputs": [],
   "source": [
    "type(B)"
   ]
  },
  {
   "cell_type": "code",
   "execution_count": null,
   "metadata": {},
   "outputs": [],
   "source": [
    "# plot RF with bokeh\n",
    "plot = bkp.figure(width=800, height=400, title='RF pulse')\n",
    "plot.line(asnumpy(rf_time * 1e3), asnumpy(rf_sig[:rf_time.shape[0], -1].real * 1e6), line_width=2)\n",
    "plot.xaxis.axis_label = 'Time (ms)'\n",
    "plot.yaxis.axis_label = 'RF Amplitude (µT)'\n",
    "bkp.show(plot)"
   ]
  },
  {
   "cell_type": "code",
   "execution_count": null,
   "metadata": {},
   "outputs": [],
   "source": [
    "mags = bloch.sim(B, T1, T2, duration, dt)"
   ]
  },
  {
   "cell_type": "code",
   "execution_count": null,
   "metadata": {},
   "outputs": [],
   "source": [
    "# plot magnetization with bokeh\n",
    "plot = bkp.figure(width=800, height=400, title='Magnetization')\n",
    "plot.line(asnumpy(time), asnumpy(mags[:, 1, 12, -1, 0]), line_width=2, legend_label='Mx', alpha=0.5)\n",
    "plot.line(asnumpy(time), asnumpy(mags[:, 1, 12, -1, 1]), line_width=2, legend_label='My', color='orange', alpha=0.5)\n",
    "plot.line(asnumpy(time), asnumpy(mags[:, 1, 12, -1, 2]), line_width=2, legend_label='Mz', color='green')\n",
    "plot.xaxis.axis_label = 'Time (s)'\n",
    "plot.yaxis.axis_label = 'Magnetization (ref M0)'\n",
    "plot.x_range = bkm.DataRange1d(start=0, end=duration)\n",
    "plot.legend.click_policy = 'hide'\n",
    "bkp.show(plot)"
   ]
  },
  {
   "cell_type": "code",
   "execution_count": null,
   "metadata": {},
   "outputs": [],
   "source": [
    "# plot magnetization off-resonances with bokeh\n",
    "title = 'Longitudinal Magnetization with Off-Resonance Pulse'\n",
    "plot = bkp.figure(width=1000, height=500, title=title)\n",
    "for offres in range(0, end := mags.shape[2], end // 10):\n",
    "    alpha = 1 - offres / end\n",
    "    plot.line(asnumpy(time), asnumpy(mags[:, 1, offres, -1, 2]), line_width=2,\n",
    "              legend_label=f'{asnumpy(dfz[offres]):g} Hz',\n",
    "              alpha=alpha, color='green')\n",
    "plot.xaxis.axis_label = 'Time (s)'\n",
    "plot.yaxis.axis_label = 'Magnetization (ref M0)'\n",
    "plot.x_range = bkm.DataRange1d(start=0.01, end=0.05)\n",
    "plot.legend.click_policy = 'hide'\n",
    "bkp.show(plot)"
   ]
  },
  {
   "cell_type": "code",
   "execution_count": null,
   "metadata": {},
   "outputs": [],
   "source": [
    "band = 3\n",
    "plot = bkp.figure(width=800, height=400, title=f'Flipped Magnetization Spectrum for {rf_bandwidth[band]} Hz bandwidth')\n",
    "plot.line(asnumpy(dfz), asnumpy(mags.min(axis=0)[band, :, -1, -1]), line_width=2)\n",
    "plot.xaxis.axis_label = 'Off-Resonance Frequency (Hz)'\n",
    "plot.yaxis.axis_label = 'Magnetization (ref M0)'\n",
    "bkp.show(plot)"
   ]
  },
  {
   "cell_type": "code",
   "execution_count": null,
   "metadata": {},
   "outputs": [],
   "source": [
    "plot = bkp.figure(width=800, height=400, title='Flipped Magnetization Homogeneity')\n",
    "plot.line(asnumpy(B1_inhomogeneity), asnumpy(mags.min(axis=0)[-1, 0, :, -1]), line_width=2)\n",
    "plot.xaxis.axis_label = 'B1 Inhomogenrity'\n",
    "plot.yaxis.axis_label = 'Magnetization (ref M0)'\n",
    "bkp.show(plot)"
   ]
  },
  {
   "cell_type": "code",
   "execution_count": null,
   "metadata": {},
   "outputs": [],
   "source": [
    "freq = asnumpy(dfz)\n",
    "B1 = asnumpy(B1_inhomogeneity)\n",
    "minmag = asnumpy(mags.min(axis=0)[-1, ..., -1].T)\n",
    "\n",
    "title = 'Inverted Magnetization Spectrum'\n",
    "plot = bkp.figure(width=1000, height=500, title=title)\n",
    "color_mapper = bkm.LinearColorMapper(palette='Viridis256', low=-1, high=1)\n",
    "image = plot.image([minmag], y=[B1.min()], x=[freq.min()],\n",
    "                   dh=[B1.max() - B1.min()],\n",
    "                   dw=[freq.max() - freq.min()], color_mapper=color_mapper)\n",
    "plot.xaxis.axis_label = 'Off-Resonance Frequency (Hz)'\n",
    "plot.yaxis.axis_label = 'B1 Inhomogenrity'\n",
    "plot.x_range = bkm.DataRange1d(start=freq.min(), end=freq.max())\n",
    "plot.y_range = bkm.DataRange1d(start=B1.min(), end=B1.max())\n",
    "\n",
    "# add colourbar\n",
    "color_bar = bkm.ColorBar(color_mapper=color_mapper, location=(0, 0))\n",
    "color_bar.title = 'Min Magnetization (ref M0)'\n",
    "plot.add_layout(color_bar, 'right')\n",
    "\n",
    "# bkp.output_file(f'{title}.html')\n",
    "# bkp.save(plot)\n",
    "bkp.show(plot)"
   ]
  },
  {
   "cell_type": "code",
   "execution_count": null,
   "metadata": {},
   "outputs": [],
   "source": [
    "# save mags, B, dt, and dfz to compressed numpy file\n",
    "# np.savez_compressed('mags.npz', mags=mags, B=B, dt=dt, dfz=dfz, B1=B1_inhomogeneity)"
   ]
  },
  {
   "cell_type": "code",
   "execution_count": null,
   "metadata": {},
   "outputs": [],
   "source": []
  }
 ],
 "metadata": {
  "kernelspec": {
   "display_name": "base",
   "language": "python",
   "name": "python3"
  },
  "language_info": {
   "codemirror_mode": {
    "name": "ipython",
    "version": 3
   },
   "file_extension": ".py",
   "mimetype": "text/x-python",
   "name": "python",
   "nbconvert_exporter": "python",
   "pygments_lexer": "ipython3",
   "version": "3.9.16"
  }
 },
 "nbformat": 4,
 "nbformat_minor": 2
}
