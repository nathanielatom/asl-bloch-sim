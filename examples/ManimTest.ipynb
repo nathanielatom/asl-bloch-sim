{
 "cells": [
  {
   "cell_type": "code",
   "execution_count": null,
   "id": "1939a6bf-5799-4fcf-bc8f-8084ea0cca82",
   "metadata": {},
   "outputs": [],
   "source": [
    "import numpy as np\n",
    "\n",
    "import os\n",
    "os.environ['ARRAY_MODULE'] = 'numpy'\n",
    "from asl_bloch_sim import animation"
   ]
  },
  {
   "cell_type": "code",
   "execution_count": null,
   "id": "2ed10a68",
   "metadata": {},
   "outputs": [],
   "source": [
    "start = 0.26 # 0.7 # seconds\n",
    "end = 0.32 # 0.808 # seconds"
   ]
  },
  {
   "cell_type": "code",
   "execution_count": null,
   "id": "48e4971f-020c-4461-ac23-1db4aabcd83d",
   "metadata": {},
   "outputs": [],
   "source": [
    "data = np.load('casl_simulation.npz')\n",
    "time = data['time']\n",
    "\n",
    "ts = time[np.argmin(abs(time - start)):np.argmin(abs(time - end))]\n",
    "mags = data['mags'][np.argmin(abs(time - start)):np.argmin(abs(time - end))]\n",
    "B_field = data['B_field'][np.argmin(abs(time - start)):np.argmin(abs(time - end))]"
   ]
  },
  {
   "cell_type": "code",
   "execution_count": null,
   "id": "69f0e300",
   "metadata": {},
   "outputs": [],
   "source": [
    "import scipy.signal as sig\n",
    "import bokeh.plotting as bkp\n",
    "import bokeh.models as bkm\n",
    "bkp.output_notebook()"
   ]
  },
  {
   "cell_type": "code",
   "execution_count": null,
   "id": "25ed36f6",
   "metadata": {},
   "outputs": [],
   "source": [
    "# plot magnetization with bokeh\n",
    "plot = bkp.figure(width=800, height=400, title='Magnetization')\n",
    "plot.line(ts, mags[..., 0], line_width=2, legend_label='Mx', alpha=0.5)\n",
    "plot.line(ts, mags[..., 1], line_width=2, legend_label='My', color='orange', alpha=0.5)\n",
    "plot.line(ts, mags[..., 2], line_width=2, legend_label='Mz', color='green')\n",
    "plot.xaxis.axis_label = 'Time (s)'\n",
    "plot.yaxis.axis_label = 'Magnetization (ref M0)'\n",
    "plot.x_range = bkm.DataRange1d(start=ts[0], end=ts[-1])\n",
    "plot.legend.click_policy = 'hide'\n",
    "\n",
    "bkp.show(plot)"
   ]
  },
  {
   "cell_type": "code",
   "execution_count": null,
   "id": "e1494ba6",
   "metadata": {},
   "outputs": [],
   "source": [
    "NFFT = 2 ** 13\n",
    "freq = np.fft.fftshift(np.fft.fftfreq(NFFT, ts[1] - ts[0]))\n",
    "amp = np.log10(np.abs(np.fft.fftshift(np.fft.fft(mags, n=NFFT, axis=0)))) * 20\n",
    "# plot RF with bokeh\n",
    "plot = bkp.figure(width=800, height=400, title='Magnetization FFT')\n",
    "plot.line(freq, amp[..., 2], line_width=2)\n",
    "plot.xaxis.axis_label = 'Frequency (Hz)'\n",
    "plot.yaxis.axis_label = 'RF Amplitude (dB)'\n",
    "bkp.show(plot)"
   ]
  },
  {
   "cell_type": "code",
   "execution_count": null,
   "id": "0c84f515",
   "metadata": {},
   "outputs": [],
   "source": [
    "def rescale(arr, ogtime, newtime):\n",
    "    # return sig.resample(arr, newtime.size, axis=0, window='rect')\n",
    "    return sig.resample_poly(arr, 1, ogtime.size // newtime.size, axis=0, padtype='line')\n",
    "    # return arr[::ogtime.size // newtime.size]"
   ]
  },
  {
   "cell_type": "code",
   "execution_count": null,
   "id": "81b0be0a",
   "metadata": {},
   "outputs": [],
   "source": [
    "# anim_duration = 18.75 # s\n",
    "time_increment = 0.05 # s\n",
    "\n",
    "anim_time, anim_m = animation.downsample(mags, 0.05, '~20')\n",
    "anim_time, anim_b = animation.downsample(B_field, 0.05, '~20')\n",
    "\n",
    "# = np.arange(0, anim_duration, 1/sample_rate)\n",
    "# anim_m = rescale(mags, ts, anim_time)\n",
    "# anim_b = rescale(B_field, ts, anim_time)\n",
    "# ts.size / anim_time.size"
   ]
  },
  {
   "cell_type": "code",
   "execution_count": null,
   "id": "a493d41b",
   "metadata": {},
   "outputs": [],
   "source": [
    "# plot magnetization with bokeh\n",
    "plot = bkp.figure(width=800, height=400, title='Beff')\n",
    "plot.line(anim_time, anim_b[..., 0], line_width=2, legend_label='Bx', alpha=0.5)\n",
    "plot.line(anim_time, anim_b[..., 1], line_width=2, legend_label='By', color='orange', alpha=0.5)\n",
    "plot.line(anim_time, anim_b[..., 2], line_width=2, legend_label='Bz', color='green')\n",
    "plot.xaxis.axis_label = 'Time (s)'\n",
    "plot.yaxis.axis_label = 'B (µT)'\n",
    "plot.x_range = bkm.DataRange1d(start=anim_time[0], end=anim_time[-1])\n",
    "plot.legend.click_policy = 'hide'\n",
    "bkp.show(plot)"
   ]
  },
  {
   "cell_type": "code",
   "execution_count": null,
   "id": "a60c3d4e",
   "metadata": {},
   "outputs": [],
   "source": [
    "# plot magnetization with bokeh\n",
    "plot = bkp.figure(width=800, height=400, title='Magnetization')\n",
    "plot.line(anim_time, anim_m[..., 0], line_width=2, legend_label='Mx', alpha=0.5)\n",
    "plot.line(anim_time, anim_m[..., 1], line_width=2, legend_label='My', color='orange', alpha=0.5)\n",
    "plot.line(anim_time, anim_m[..., 2], line_width=2, legend_label='Mz', color='green')\n",
    "plot.xaxis.axis_label = 'Time (s)'\n",
    "plot.yaxis.axis_label = 'Magnetization (ref M0)'\n",
    "plot.x_range = bkm.DataRange1d(start=0, end=anim_time[-1])\n",
    "plot.legend.click_policy = 'hide'\n",
    "bkp.show(plot)"
   ]
  },
  {
   "cell_type": "code",
   "execution_count": null,
   "id": "82d6179d",
   "metadata": {},
   "outputs": [],
   "source": [
    "animation.speed(ts, anim_time)"
   ]
  },
  {
   "cell_type": "code",
   "execution_count": null,
   "id": "c50cd9cf-c337-4fad-8018-8f9298b64ba3",
   "metadata": {},
   "outputs": [],
   "source": [
    "animation.bloch_sphere(anim_m, anim_b, np.gradient(anim_time), animation.speed(ts, anim_time),\n",
    "                       quality='high_quality')"
   ]
  },
  {
   "cell_type": "code",
   "execution_count": null,
   "id": "dd4c8932-531d-4d54-a370-018ecf500d99",
   "metadata": {},
   "outputs": [],
   "source": []
  },
  {
   "cell_type": "code",
   "execution_count": null,
   "id": "ad9851eb-d5fd-4f06-b4d3-4ada686be87d",
   "metadata": {},
   "outputs": [],
   "source": []
  }
 ],
 "metadata": {
  "kernelspec": {
   "display_name": "Python 3 (ipykernel)",
   "language": "python",
   "name": "python3"
  },
  "language_info": {
   "codemirror_mode": {
    "name": "ipython",
    "version": 3
   },
   "file_extension": ".py",
   "mimetype": "text/x-python",
   "name": "python",
   "nbconvert_exporter": "python",
   "pygments_lexer": "ipython3",
   "version": "3.9.10"
  }
 },
 "nbformat": 4,
 "nbformat_minor": 5
}
