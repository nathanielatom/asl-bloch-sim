{
 "cells": [
  {
   "cell_type": "code",
   "execution_count": null,
   "id": "1939a6bf-5799-4fcf-bc8f-8084ea0cca82",
   "metadata": {},
   "outputs": [],
   "source": [
    "import numpy as np\n",
    "\n",
    "import os\n",
    "os.environ['ARRAY_MODULE'] = 'numpy'\n",
    "from asl_bloch_sim import animation"
   ]
  },
  {
   "cell_type": "code",
   "execution_count": null,
   "id": "2ed10a68",
   "metadata": {},
   "outputs": [],
   "source": [
    "start = 0.26 # 0.7 # seconds\n",
    "end = 0.32 # 0.808 # seconds\n",
    "relaxed = 2 # seconds"
   ]
  },
  {
   "cell_type": "code",
   "execution_count": null,
   "id": "48e4971f-020c-4461-ac23-1db4aabcd83d",
   "metadata": {},
   "outputs": [],
   "source": [
    "data = np.load('asl_simulation.npz')\n",
    "time = data['time']\n",
    "\n",
    "ts_inv = time[np.argmin(abs(time - start)):np.argmin(abs(time - end))]\n",
    "mags_inv = data['mags'][np.argmin(abs(time - start)):np.argmin(abs(time - end))]\n",
    "B_field_inv = data['B_field'][np.argmin(abs(time - start)):np.argmin(abs(time - end))]\n",
    "\n",
    "ts_relax = time[np.argmin(abs(time - end)):np.argmin(abs(time - relaxed))]\n",
    "mags_relax = data['mags'][np.argmin(abs(time - end)):np.argmin(abs(time - relaxed))]\n",
    "B_field_relax = data['B_field'][np.argmin(abs(time - end)):np.argmin(abs(time - relaxed))]"
   ]
  },
  {
   "cell_type": "code",
   "execution_count": null,
   "id": "69f0e300",
   "metadata": {},
   "outputs": [],
   "source": [
    "import scipy.signal as sig\n",
    "import bokeh.plotting as bkp\n",
    "import bokeh.models as bkm\n",
    "bkp.output_notebook()"
   ]
  },
  {
   "cell_type": "code",
   "execution_count": null,
   "id": "fd8eb83b",
   "metadata": {},
   "outputs": [],
   "source": [
    "# plot magnetization with bokeh\n",
    "plot = bkp.figure(width=800, height=400, title='Magnetization')\n",
    "plot.line(ts_inv, B_field_inv[..., 0], line_width=2, legend_label='Mx', alpha=0.5)\n",
    "plot.line(ts_inv, B_field_inv[..., 1], line_width=2, legend_label='My', color='orange', alpha=0.5)\n",
    "plot.line(ts_inv, B_field_inv[..., 2], line_width=2, legend_label='Mz', color='green')\n",
    "plot.line(ts_relax, B_field_relax[..., 0], line_width=2, legend_label='Mx', alpha=0.5)\n",
    "plot.line(ts_relax, B_field_relax[..., 1], line_width=2, legend_label='My', color='orange', alpha=0.5)\n",
    "plot.line(ts_relax, B_field_relax[..., 2], line_width=2, legend_label='Mz', color='green')\n",
    "plot.xaxis.axis_label = 'Time (s)'\n",
    "plot.yaxis.axis_label = 'Magnetization (ref M0)'\n",
    "plot.x_range = bkm.DataRange1d(start=ts_inv[0], end=ts_relax[-1])\n",
    "plot.legend.click_policy = 'hide'\n",
    "\n",
    "bkp.show(plot)"
   ]
  },
  {
   "cell_type": "code",
   "execution_count": null,
   "id": "25ed36f6",
   "metadata": {},
   "outputs": [],
   "source": [
    "# plot magnetization with bokeh\n",
    "plot = bkp.figure(width=800, height=400, title='Magnetization')\n",
    "plot.line(ts_inv, mags_inv[..., 0], line_width=2, legend_label='Mx', alpha=0.5)\n",
    "plot.line(ts_inv, mags_inv[..., 1], line_width=2, legend_label='My', color='orange', alpha=0.5)\n",
    "plot.line(ts_inv, mags_inv[..., 2], line_width=2, legend_label='Mz', color='green')\n",
    "plot.line(ts_relax, mags_relax[..., 0], line_width=2, legend_label='Mx', alpha=0.5)\n",
    "plot.line(ts_relax, mags_relax[..., 1], line_width=2, legend_label='My', color='orange', alpha=0.5)\n",
    "plot.line(ts_relax, mags_relax[..., 2], line_width=2, legend_label='Mz', color='green')\n",
    "plot.xaxis.axis_label = 'Time (s)'\n",
    "plot.yaxis.axis_label = 'Magnetization (ref M0)'\n",
    "plot.x_range = bkm.DataRange1d(start=ts_inv[0], end=ts_relax[-1])\n",
    "plot.legend.click_policy = 'hide'\n",
    "\n",
    "bkp.show(plot)"
   ]
  },
  {
   "cell_type": "code",
   "execution_count": null,
   "id": "e1494ba6",
   "metadata": {},
   "outputs": [],
   "source": [
    "NFFT = 2 ** 13\n",
    "freq = np.fft.fftshift(np.fft.fftfreq(NFFT, ts_inv[1] - ts_inv[0]))\n",
    "amp = np.log10(np.abs(np.fft.fftshift(np.fft.fft(mags_inv, n=NFFT, axis=0)))) * 20\n",
    "# plot RF with bokeh\n",
    "plot = bkp.figure(width=800, height=400, title='Magnetization FFT')\n",
    "plot.line(freq, amp[..., 2], line_width=2)\n",
    "plot.xaxis.axis_label = 'Frequency (Hz)'\n",
    "plot.yaxis.axis_label = 'RF Amplitude (dB)'\n",
    "bkp.show(plot)"
   ]
  },
  {
   "cell_type": "code",
   "execution_count": null,
   "id": "81b0be0a",
   "metadata": {},
   "outputs": [],
   "source": [
    "time_increment = 0.05 # s\n",
    "duration_inv = '~34'\n",
    "duration_relax = '~10'\n",
    "\n",
    "anim_time_inv, anim_m_inv = animation.downsample(mags_inv, time_increment, duration_inv)\n",
    "anim_time_inv, anim_b_inv = animation.downsample(B_field_inv, time_increment, duration_inv)\n",
    "anim_time_relax, anim_m_relax = animation.downsample(mags_relax, time_increment, duration_relax)\n",
    "anim_time_relax, anim_b_relax = animation.downsample(B_field_relax, time_increment, duration_relax)"
   ]
  },
  {
   "cell_type": "code",
   "execution_count": null,
   "id": "a493d41b",
   "metadata": {},
   "outputs": [],
   "source": [
    "# plot magnetization with bokeh\n",
    "plot = bkp.figure(width=800, height=400, title='Beff')\n",
    "plot.line(anim_time_inv, anim_b_inv[..., 0], line_width=2, legend_label='Bx', alpha=0.5)\n",
    "plot.line(anim_time_inv, anim_b_inv[..., 1], line_width=2, legend_label='By', color='orange', alpha=0.5)\n",
    "plot.line(anim_time_inv, anim_b_inv[..., 2], line_width=2, legend_label='Bz', color='green')\n",
    "plot.line(anim_time_relax + anim_time_inv[-1], anim_b_relax[..., 0], line_width=2, legend_label='Bx', alpha=0.5)\n",
    "plot.line(anim_time_relax + anim_time_inv[-1], anim_b_relax[..., 1], line_width=2, legend_label='By', color='orange', alpha=0.5)\n",
    "plot.line(anim_time_relax + anim_time_inv[-1], anim_b_relax[..., 2], line_width=2, legend_label='Bz', color='green')\n",
    "plot.xaxis.axis_label = 'Time (s)'\n",
    "plot.yaxis.axis_label = 'B (µT)'\n",
    "plot.x_range = bkm.DataRange1d(start=anim_time_relax[0], end=anim_time_relax[-1] + anim_time_inv[-1])\n",
    "plot.legend.click_policy = 'hide'\n",
    "bkp.show(plot)"
   ]
  },
  {
   "cell_type": "code",
   "execution_count": null,
   "id": "a60c3d4e",
   "metadata": {},
   "outputs": [],
   "source": [
    "# plot magnetization with bokeh\n",
    "plot = bkp.figure(width=800, height=400, title='Magnetization')\n",
    "plot.line(anim_time_inv, anim_m_inv[..., 0], line_width=2, legend_label='Mx', alpha=0.5)\n",
    "plot.line(anim_time_inv, anim_m_inv[..., 1], line_width=2, legend_label='My', color='orange', alpha=0.5)\n",
    "plot.line(anim_time_inv, anim_m_inv[..., 2], line_width=2, legend_label='Mz', color='green')\n",
    "plot.line(anim_time_relax + anim_time_inv[-1], anim_m_relax[..., 0], line_width=2, legend_label='Mx', alpha=0.5)\n",
    "plot.line(anim_time_relax + anim_time_inv[-1], anim_m_relax[..., 1], line_width=2, legend_label='My', color='orange', alpha=0.5)\n",
    "plot.line(anim_time_relax + anim_time_inv[-1], anim_m_relax[..., 2], line_width=2, legend_label='Mz', color='green')\n",
    "plot.xaxis.axis_label = 'Time (s)'\n",
    "plot.yaxis.axis_label = 'Magnetization (ref M0)'\n",
    "plot.x_range = bkm.DataRange1d(start=anim_time_inv[0], end=anim_time_inv[-1] + anim_time_relax[-1])\n",
    "plot.legend.click_policy = 'hide'\n",
    "\n",
    "bkp.show(plot)"
   ]
  },
  {
   "cell_type": "code",
   "execution_count": null,
   "id": "82d6179d",
   "metadata": {},
   "outputs": [],
   "source": [
    "animation.speed(ts_inv, anim_time_inv)"
   ]
  },
  {
   "cell_type": "code",
   "execution_count": null,
   "id": "8b01fcfc",
   "metadata": {},
   "outputs": [],
   "source": [
    "animation.speed(ts_relax, anim_time_relax)"
   ]
  },
  {
   "cell_type": "code",
   "execution_count": null,
   "id": "dd4c8932-531d-4d54-a370-018ecf500d99",
   "metadata": {},
   "outputs": [],
   "source": [
    "speed_inv = np.full_like(anim_time_inv, animation.speed(ts_inv, anim_time_inv))\n",
    "speed_relax = np.full_like(anim_time_relax, animation.speed(ts_relax, anim_time_relax))\n",
    "speed = np.append(speed_inv, speed_relax)\n",
    "speed"
   ]
  },
  {
   "cell_type": "code",
   "execution_count": null,
   "id": "e24b2e99",
   "metadata": {},
   "outputs": [],
   "source": [
    "anim_time = np.append(anim_time_inv, anim_time_relax + anim_time_inv[-1])\n",
    "anim_m = np.append(anim_m_inv, anim_m_relax, axis=0)\n",
    "anim_b = np.append(anim_b_inv, anim_b_relax, axis=0)"
   ]
  },
  {
   "cell_type": "code",
   "execution_count": null,
   "id": "c50cd9cf-c337-4fad-8018-8f9298b64ba3",
   "metadata": {},
   "outputs": [],
   "source": [
    "animation.bloch_sphere(anim_m, None, np.gradient(anim_time), speed,\n",
    "                       quality='high_quality')"
   ]
  },
  {
   "cell_type": "code",
   "execution_count": null,
   "id": "9da334dc",
   "metadata": {},
   "outputs": [],
   "source": []
  }
 ],
 "metadata": {
  "kernelspec": {
   "display_name": "Python 3 (ipykernel)",
   "language": "python",
   "name": "python3"
  },
  "language_info": {
   "codemirror_mode": {
    "name": "ipython",
    "version": 3
   },
   "file_extension": ".py",
   "mimetype": "text/x-python",
   "name": "python",
   "nbconvert_exporter": "python",
   "pygments_lexer": "ipython3",
   "version": "3.9.10"
  }
 },
 "nbformat": 4,
 "nbformat_minor": 5
}
