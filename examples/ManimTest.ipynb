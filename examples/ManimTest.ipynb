{
 "cells": [
  {
   "cell_type": "code",
   "execution_count": null,
   "id": "1939a6bf-5799-4fcf-bc8f-8084ea0cca82",
   "metadata": {},
   "outputs": [],
   "source": [
    "import numpy as np\n",
    "\n",
    "import os\n",
    "os.environ['ARRAY_MODULE'] = 'numpy'\n",
    "from asl_bloch_sim import animation"
   ]
  },
  {
   "cell_type": "code",
   "execution_count": null,
   "id": "48e4971f-020c-4461-ac23-1db4aabcd83d",
   "metadata": {},
   "outputs": [],
   "source": [
    "data = np.load('adiabatic_mags.npz')"
   ]
  },
  {
   "cell_type": "code",
   "execution_count": null,
   "id": "c50cd9cf-c337-4fad-8018-8f9298b64ba3",
   "metadata": {},
   "outputs": [],
   "source": [
    "animation.bloch_sphere(data['mags'], data['beff'], np.gradient(data['time']), data['speed'],\n",
    "                       traces=('magnetization', 'magnetization_projection', 'B_field', 'B_field_projection')\n",
    "                       quality='high_quality')"
   ]
  },
  {
   "cell_type": "code",
   "execution_count": null,
   "id": "dd4c8932-531d-4d54-a370-018ecf500d99",
   "metadata": {},
   "outputs": [],
   "source": []
  },
  {
   "cell_type": "code",
   "execution_count": null,
   "id": "ad9851eb-d5fd-4f06-b4d3-4ada686be87d",
   "metadata": {},
   "outputs": [],
   "source": []
  }
 ],
 "metadata": {
  "kernelspec": {
   "display_name": "Python 3 (ipykernel)",
   "language": "python",
   "name": "python3"
  },
  "language_info": {
   "codemirror_mode": {
    "name": "ipython",
    "version": 3
   },
   "file_extension": ".py",
   "mimetype": "text/x-python",
   "name": "python",
   "nbconvert_exporter": "python",
   "pygments_lexer": "ipython3",
   "version": "3.9.16"
  }
 },
 "nbformat": 4,
 "nbformat_minor": 5
}
