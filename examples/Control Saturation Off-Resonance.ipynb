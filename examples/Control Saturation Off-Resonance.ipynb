{
 "cells": [
  {
   "cell_type": "code",
   "execution_count": null,
   "metadata": {},
   "outputs": [],
   "source": [
    "import numpy as np\n",
    "import scipy.signal as sig\n",
    "import bokeh.plotting as bkp\n",
    "import bokeh.models as bkm\n",
    "bkp.output_notebook()\n",
    "\n",
    "from asl_bloch_sim import bloch, rf_design"
   ]
  },
  {
   "cell_type": "code",
   "execution_count": null,
   "metadata": {},
   "outputs": [],
   "source": [
    "# PCASL: A typical real sequence may use 750 0.5 ms, 20º, Hann RF pulses over a 1500 ms period\n",
    "duration = 2.5 # seconds\n",
    "label_duration = 1.5 # seconds\n",
    "num_reps = 750\n",
    "dt = 0.00001 # seconds\n",
    "\n",
    "flip_angle = 20 # degrees\n",
    "rf_duration = 0.0005 # seconds\n",
    "rf_bandwidth = 125 # Hz\n",
    "off_resonance = 1000 # Hz\n",
    "spectrum_lines = 400\n",
    "\n",
    "G_avg = 2 # mT/m\n",
    "\n",
    "T1 = 1.5 # seconds\n",
    "T2 = 0.2 # seconds"
   ]
  },
  {
   "cell_type": "code",
   "execution_count": null,
   "metadata": {},
   "outputs": [],
   "source": [
    "time = np.arange(0, duration, dt) # seconds\n",
    "rf_time = np.arange(-rf_duration / 2, rf_duration / 2, dt)\n",
    "\n",
    "rf_pulse = rf_design.sinc_pulse(flip_angle, rf_duration, rf_bandwidth, dt, phase_angle=0)\n",
    "\n",
    "rf_label = np.tile(rf_design.extend(rf_pulse, label_duration / num_reps, dt), num_reps)\n",
    "rf_control = np.tile(np.append(rf_design.extend(rf_pulse, label_duration / num_reps, dt),\n",
    "                               rf_design.extend(rf_pulse * -1, label_duration / num_reps, dt)), num_reps // 2)\n",
    "rf = rf_design.extend(rf_control, duration, dt)\n",
    "\n",
    "dfz = np.linspace(0, off_resonance, spectrum_lines) # Hz\n",
    "B = bloch.construct_B_field(rf, off_resonance=dfz)"
   ]
  },
  {
   "cell_type": "code",
   "execution_count": null,
   "metadata": {},
   "outputs": [],
   "source": [
    "# plot RF with bokeh\n",
    "plot = bkp.figure(width=800, height=400, title='RF pulse')\n",
    "plot.line(rf_time * 1e3, rf_pulse.real * 1e6, line_width=2)\n",
    "plot.line(rf_time * 1e3, rf_pulse.imag * 1e6, line_width=2, color='orange')\n",
    "plot.xaxis.axis_label = 'Time (ms)'\n",
    "plot.yaxis.axis_label = 'RF Amplitude (µT)'\n",
    "bkp.show(plot)"
   ]
  },
  {
   "cell_type": "code",
   "execution_count": null,
   "metadata": {},
   "outputs": [],
   "source": [
    "freq = np.fft.fftshift(np.fft.fftfreq(50000, dt))\n",
    "amp = np.log10(np.abs(np.fft.fftshift(np.fft.fft(np.append(rf_design.extend(rf_pulse, label_duration / num_reps, dt),\n",
    "                               rf_design.extend(rf_pulse * -1, label_duration / num_reps, dt)).real, n=50000))) / 1e-6) * 20\n",
    "# plot RF with bokeh\n",
    "plot = bkp.figure(width=800, height=400, title='RF pulse')\n",
    "plot.line(freq, amp, line_width=2)\n",
    "plot.xaxis.axis_label = 'Frequency (Hz)'\n",
    "plot.yaxis.axis_label = 'RF Amplitude (µT)'\n",
    "bkp.show(plot)"
   ]
  },
  {
   "cell_type": "code",
   "execution_count": null,
   "metadata": {},
   "outputs": [],
   "source": [
    "# plot RF with bokeh\n",
    "plot = bkp.figure(width=800, height=400, title='RF pulses')\n",
    "plot.line(time, rf.real * 1e6, line_width=2, alpha=0.5)\n",
    "plot.line(time, rf.imag * 1e6, line_width=2, color='orange', alpha=0.5)\n",
    "plot.xaxis.axis_label = 'Time (s)'\n",
    "plot.yaxis.axis_label = 'RF Amplitude (µT)'\n",
    "bkp.show(plot)"
   ]
  },
  {
   "cell_type": "code",
   "execution_count": null,
   "metadata": {},
   "outputs": [],
   "source": [
    "mag = np.array([[0, 0, 1]]) # initial magnetization\n",
    "mags = np.array([mag := bloch.relax(bloch.precess(mag, B[step], dt), T1, T2, dt) for step in range(round(duration / dt))])"
   ]
  },
  {
   "cell_type": "code",
   "execution_count": null,
   "metadata": {},
   "outputs": [],
   "source": [
    "# plot magnetization with bokeh\n",
    "plot = bkp.figure(width=800, height=400, title='Magnetization')\n",
    "plot.line(time, mags[:, 0, 0], line_width=2, legend_label='Mx', alpha=0.5)\n",
    "plot.line(time, mags[:, 0, 1], line_width=2, legend_label='My', color='orange', alpha=0.5)\n",
    "plot.line(time, mags[:, 0, 2], line_width=2, legend_label='Mz', color='green')\n",
    "plot.xaxis.axis_label = 'Time (s)'\n",
    "plot.yaxis.axis_label = 'Magnetization (a.u.)'\n",
    "plot.x_range = bkm.DataRange1d(start=0, end=1.6)\n",
    "bkp.show(plot)"
   ]
  },
  {
   "cell_type": "code",
   "execution_count": null,
   "metadata": {},
   "outputs": [],
   "source": [
    "# plot magnetization off-resonances with bokeh\n",
    "title = 'Longitudinal Magnetization with Off-Resonance Pulse'\n",
    "plot = bkp.figure(width=1000, height=500, title=title)\n",
    "for offres in range(0, end := mags.shape[1], end // 10):\n",
    "    alpha = 1 - offres / end\n",
    "    plot.line(time, mags[:, offres, 2], line_width=2, legend_label=f'{dfz[offres]:g} Hz',\n",
    "              alpha=alpha, color='green')\n",
    "plot.xaxis.axis_label = 'Time (s)'\n",
    "plot.yaxis.axis_label = 'Magnetization (a.u.)'\n",
    "plot.x_range = bkm.DataRange1d(start=0, end=1.5)\n",
    "bkp.show(plot)"
   ]
  },
  {
   "cell_type": "code",
   "execution_count": null,
   "metadata": {},
   "outputs": [],
   "source": [
    "# flipped = np.min(mags[..., 2], axis=0)\n",
    "flipped = np.argmin(mags[..., 2], axis=0)\n",
    "plot = bkp.figure(width=800, height=400, title='Flipped Magnetization Spectrum')\n",
    "plot.line(dfz, np.take_along_axis(mags[..., 2], flipped[np.newaxis], axis=0)[0], line_width=2)\n",
    "plot.line(dfz, time[flipped], line_width=2)\n",
    "plot.xaxis.axis_label = 'Off-Resonance Frequency (Hz)'\n",
    "plot.yaxis.axis_label = 'Magnetization (a.u.)'\n",
    "plot.y_range = bkm.DataRange1d(start=-1, end=1)\n",
    "bkp.show(plot)"
   ]
  },
  {
   "cell_type": "code",
   "execution_count": null,
   "metadata": {},
   "outputs": [],
   "source": [
    "avg_long_mag = np.mean(mags[:round(label_duration/dt), ..., 2], axis=0)\n",
    "plot = bkp.figure(width=800, height=400, title='Average Longitudinal Magnetization Spectrum of Control Sequence')\n",
    "plot.line(dfz, avg_long_mag, line_width=2)\n",
    "plot.xaxis.axis_label = 'Off-Resonance Frequency (Hz)'\n",
    "plot.yaxis.axis_label = 'Magnetization (a.u.)'\n",
    "plot.y_range = bkm.DataRange1d(start=-1, end=1)\n",
    "bkp.show(plot)"
   ]
  },
  {
   "cell_type": "code",
   "execution_count": null,
   "metadata": {},
   "outputs": [],
   "source": [
    "# save mags, dt, and dfz to compressed numpy file\n",
    "np.savez_compressed('mags.npz', mags=mags[::10], dt=dt * 10, dfz=dfz)"
   ]
  },
  {
   "cell_type": "code",
   "execution_count": null,
   "metadata": {},
   "outputs": [],
   "source": []
  }
 ],
 "metadata": {
  "kernelspec": {
   "display_name": "base",
   "language": "python",
   "name": "python3"
  },
  "language_info": {
   "codemirror_mode": {
    "name": "ipython",
    "version": 3
   },
   "file_extension": ".py",
   "mimetype": "text/x-python",
   "name": "python",
   "nbconvert_exporter": "python",
   "pygments_lexer": "ipython3",
   "version": "3.9.10"
  }
 },
 "nbformat": 4,
 "nbformat_minor": 2
}
