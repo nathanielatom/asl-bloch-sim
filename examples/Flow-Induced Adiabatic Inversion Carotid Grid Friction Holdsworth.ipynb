{
 "cells": [
  {
   "cell_type": "code",
   "execution_count": null,
   "metadata": {},
   "outputs": [],
   "source": [
    "import numpy as np\n",
    "import scipy.signal as sig\n",
    "import bokeh.plotting as bkp\n",
    "import bokeh.models as bkm\n",
    "bkp.output_notebook()\n",
    "\n",
    "import os\n",
    "os.environ['ARRAY_MODULE'] = 'numpy'\n",
    "from asl_bloch_sim import bloch, rf, flow\n",
    "from asl_bloch_sim import xp, asnumpy"
   ]
  },
  {
   "cell_type": "code",
   "execution_count": null,
   "metadata": {},
   "outputs": [],
   "source": [
    "np.linspace(0, 0.25, 17)"
   ]
  },
  {
   "cell_type": "code",
   "execution_count": null,
   "metadata": {},
   "outputs": [],
   "source": [
    "np.linspace(0, 1.5, 21)"
   ]
  },
  {
   "cell_type": "code",
   "execution_count": null,
   "metadata": {},
   "outputs": [],
   "source": [
    "dt = 0.00002 # seconds\n",
    "# PCASL: A typical real sequence may use 750 0.5 ms, 20º, Hann RF pulses over a 1500 ms period\n",
    "# 750 pulses with these durations corresponds to a duty cycle of 0.5\n",
    "duration = 2.2 # 2.5 # seconds\n",
    "label_duration = 2 # seconds\n",
    "num_reps = 2500 # 1333\n",
    "\n",
    "flip_angle = 20 # degrees\n",
    "rf_duration = 0.0005 # seconds\n",
    "rf_bandwidth = 500 # Hz\n",
    "\n",
    "G_max = 15e-3 # T/m\n",
    "G_avg = 1e-3 # T/m\n",
    "S_max = 150 # T/m/s # look up max skew rate for your scanner\n",
    "\n",
    "off_resonance = 2000 # Hz\n",
    "spectrum_lines = 1 # 5\n",
    "B1_homogeneity = np.array([1]) # np.linspace(0.5, 1, 5) # fraction of B1\n",
    "\n",
    "num_flow = 50000\n",
    "position_offset = 0.1 # 0.04 # m\n",
    "diastolic_velocity = np.linspace(0, 0.25, 26) # 0.137 # m/s\n",
    "systolic = np.linspace(0, 1.5, 31) # m/s\n",
    "radial, vessel_cross_section = flow.speed_across_vessel(normalized=True, num=11)\n",
    "flow_time, flow_velocity, flow_position = flow.holdsworth_cca(stop=duration, # + 0.5,\n",
    "                                                              num=round(duration / dt),\n",
    "                                                              cross_section=vessel_cross_section,\n",
    "                                                              systolic_velocity=systolic,\n",
    "                                                              diastolic_velocity=diastolic_velocity)\n",
    "flow_position -= position_offset\n",
    "\n",
    "T1 = 1.65 # seconds # https://doi.org/10.1002/mrm.25197\n",
    "T2 = 0.186 # seconds # https://doi.org/10.1002/mrm.21858"
   ]
  },
  {
   "cell_type": "code",
   "execution_count": null,
   "metadata": {},
   "outputs": [],
   "source": [
    "G_max / G_avg"
   ]
  },
  {
   "cell_type": "code",
   "execution_count": null,
   "metadata": {},
   "outputs": [],
   "source": [
    "flow_position.shape"
   ]
  },
  {
   "cell_type": "code",
   "execution_count": null,
   "metadata": {},
   "outputs": [],
   "source": [
    "# bokeh plot for trajectory\n",
    "p = bkp.figure(width=800, height=300, title='Blood flow', x_range=(flow_time[0], flow_time[-1]))\n",
    "for i in range(flow_position.shape[2]):\n",
    "       p.line(flow_time, flow_position[:, 3, i, 0], alpha=1 - i/flow_position.shape[2], line_width=2, legend_label='Position')\n",
    "p.xaxis.axis_label = 'Time (s)'\n",
    "p.yaxis.axis_label = 'Position (m)'\n",
    "p.line([flow_time[0], flow_time[-1]], [0] * 2, line_color='red', line_width=2,\n",
    "       line_dash='dashed', legend_label='Labeling plane')\n",
    "p.legend.click_policy = 'hide'\n",
    "p.legend.location = 'top_left'\n",
    "# bkp.output_file('blood_trajectory.html')\n",
    "# bkp.save(p)\n",
    "bkp.show(p)\n"
   ]
  },
  {
   "cell_type": "code",
   "execution_count": null,
   "metadata": {},
   "outputs": [],
   "source": [
    "labelling_plane_thickness = rf_bandwidth / (bloch.GAMMA_BAR * G_max) # m\n",
    "labelling_plane_thickness * 1e3 # mm"
   ]
  },
  {
   "cell_type": "code",
   "execution_count": null,
   "metadata": {},
   "outputs": [],
   "source": [
    "DeltaT = label_duration / num_reps\n",
    "DeltaT * 1e6 # µs"
   ]
  },
  {
   "cell_type": "code",
   "execution_count": null,
   "metadata": {},
   "outputs": [],
   "source": [
    "1/DeltaT # Hz"
   ]
  },
  {
   "cell_type": "code",
   "execution_count": null,
   "metadata": {},
   "outputs": [],
   "source": [
    "rf_duration / DeltaT"
   ]
  },
  {
   "cell_type": "code",
   "execution_count": null,
   "metadata": {},
   "outputs": [],
   "source": [
    "G_min = (G_avg - G_max * (rf_duration / DeltaT)) / (1 - rf_duration/DeltaT)\n",
    "G_min # T/m"
   ]
  },
  {
   "cell_type": "code",
   "execution_count": null,
   "metadata": {},
   "outputs": [],
   "source": [
    "# bokeh plot for blood flow\n",
    "p = bkp.figure(width=800, height=300, title='Blood flow')\n",
    "p.line(flow_time, flow_velocity[:, 0, -1, 0], line_width=2)\n",
    "p.xaxis.axis_label = 'Time (s)'\n",
    "p.yaxis.axis_label = 'Speed (m/s)'\n",
    "bkp.show(p)"
   ]
  },
  {
   "cell_type": "code",
   "execution_count": null,
   "metadata": {},
   "outputs": [],
   "source": [
    "# bokeh plot for trajectory\n",
    "p = bkp.figure(width=800, height=300, title='Blood flow', x_range=(flow_time[0], flow_time[-1]))\n",
    "p.line(flow_time, flow_position[:, 0, -1, 0], line_width=2, legend_label='Position')\n",
    "p.xaxis.axis_label = 'Time (s)'\n",
    "p.yaxis.axis_label = 'Position (m)'\n",
    "p.line([flow_time[0], flow_time[-1]], [0] * 2, line_color='red', line_width=2,\n",
    "       line_dash='dashed', legend_label='Labeling plane')\n",
    "p.legend.click_policy = 'hide'\n",
    "p.legend.location = 'top_left'\n",
    "# bkp.output_file('blood_trajectory.html')\n",
    "# bkp.save(p)\n",
    "bkp.show(p)\n"
   ]
  },
  {
   "cell_type": "code",
   "execution_count": null,
   "metadata": {},
   "outputs": [],
   "source": [
    "T2 / dt # >> 1"
   ]
  },
  {
   "cell_type": "code",
   "execution_count": null,
   "metadata": {},
   "outputs": [],
   "source": [
    "(G_max / G_avg) / (DeltaT / rf_duration) # >> 1 for no aliased labelling planes"
   ]
  },
  {
   "cell_type": "code",
   "execution_count": null,
   "metadata": {},
   "outputs": [],
   "source": [
    "time = np.arange(0, duration, dt) # seconds\n",
    "rf_time = np.arange(-rf_duration / 2, rf_duration / 2, dt)\n",
    "\n",
    "rf_pulse = rf.sinc_pulse(flip_angle, rf_duration, rf_bandwidth, dt, phase_angle=90)\n",
    "rf_period = rf.extend(rf_pulse, label_duration / num_reps, dt)\n",
    "rf_label = np.tile(rf_period, num_reps)\n",
    "rf_sig = rf.extend(rf_label, duration, dt)\n",
    "\n",
    "G_period = np.append(np.full_like(rf_time, G_max), np.full(round((DeltaT - rf_duration) / dt), G_min))\n",
    "G = rf.extend(np.tile(G_period, num_reps), duration, dt)[:, np.newaxis, np.newaxis, np.newaxis, np.newaxis]\n",
    "\n",
    "dfz = np.linspace(0, off_resonance, spectrum_lines) # Hz\n",
    "B = bloch.construct_B_field(rf_sig, G, flow_position[..., np.newaxis], off_resonance=dfz, B1_sensitivity=B1_homogeneity)"
   ]
  },
  {
   "cell_type": "code",
   "execution_count": null,
   "metadata": {},
   "outputs": [],
   "source": [
    "(1 / (bloch.GAMMA_BAR * np.abs(rf_sig).max())) / dt # >> 1"
   ]
  },
  {
   "cell_type": "code",
   "execution_count": null,
   "metadata": {},
   "outputs": [],
   "source": [
    "np.abs(rf_sig).max()"
   ]
  },
  {
   "cell_type": "code",
   "execution_count": null,
   "metadata": {},
   "outputs": [],
   "source": [
    "np.abs(rf_pulse).mean()"
   ]
  },
  {
   "cell_type": "code",
   "execution_count": null,
   "metadata": {},
   "outputs": [],
   "source": [
    "abs(rf_sig.mean()) * 1e6 # µT"
   ]
  },
  {
   "cell_type": "code",
   "execution_count": null,
   "metadata": {},
   "outputs": [],
   "source": [
    "velo_at_plane = np.take_along_axis(flow_velocity, np.abs(flow_position).argmin(axis=0)[np.newaxis], axis=0)[0]\n",
    "velo_at_plane[0, -1, 0] # m/s\n"
   ]
  },
  {
   "cell_type": "code",
   "execution_count": null,
   "metadata": {},
   "outputs": [],
   "source": [
    "time_at_plane = time[np.abs(flow_position).argmin(axis=0)]\n",
    "time_at_plane[0, -1, 0] # s"
   ]
  },
  {
   "cell_type": "code",
   "execution_count": null,
   "metadata": {},
   "outputs": [],
   "source": [
    "B.shape"
   ]
  },
  {
   "cell_type": "code",
   "execution_count": null,
   "metadata": {},
   "outputs": [],
   "source": [
    "B.size * 4 / 1e9 # GB"
   ]
  },
  {
   "cell_type": "code",
   "execution_count": null,
   "metadata": {},
   "outputs": [],
   "source": [
    "type(B)"
   ]
  },
  {
   "cell_type": "code",
   "execution_count": null,
   "metadata": {},
   "outputs": [],
   "source": [
    "# plot RF with bokeh\n",
    "plot = bkp.figure(width=800, height=400, title='RF pulse')\n",
    "plot.line(rf_time * 1e3, rf_pulse.real * 1e6, line_width=2)\n",
    "plot.line(rf_time * 1e3, rf_pulse.imag * 1e6, line_width=2, color='orange')\n",
    "plot.xaxis.axis_label = 'Time (ms)'\n",
    "plot.yaxis.axis_label = 'RF Amplitude (µT)'\n",
    "bkp.show(plot)"
   ]
  },
  {
   "cell_type": "code",
   "execution_count": null,
   "metadata": {},
   "outputs": [],
   "source": [
    "NFFT = 2 ** 17\n",
    "freq = np.fft.fftshift(np.fft.fftfreq(NFFT, dt))\n",
    "# signal = np.append(rf_design.extend(rf_pulse, label_duration / num_reps, dt),\n",
    "#                    rf_design.extend(rf_pulse * -1, label_duration / num_reps, dt)).real\n",
    "amp = np.log10(np.abs(np.fft.fftshift(np.fft.fft(rf_sig.real, n=NFFT))) / 1e-6) * 20\n",
    "# plot RF with bokeh\n",
    "plot = bkp.figure(width=800, height=400, title='RF pulse')\n",
    "plot.line(freq, amp, line_width=2)\n",
    "plot.xaxis.axis_label = 'Frequency (Hz)'\n",
    "plot.yaxis.axis_label = 'RF Amplitude (µT)'\n",
    "bkp.show(plot)"
   ]
  },
  {
   "cell_type": "code",
   "execution_count": null,
   "metadata": {},
   "outputs": [],
   "source": [
    "# plot RF and gradients with bokeh\n",
    "rf_plot = bkp.figure(width=800, height=400, title='RF pulses')\n",
    "rf_plot.line(time, rf_sig.real * 1e6, line_width=2, alpha=0.5)\n",
    "rf_plot.line(time, rf_sig.imag * 1e6, line_width=2, color='orange', alpha=0.5)\n",
    "rf_plot.xaxis.axis_label = 'Time (s)'\n",
    "rf_plot.yaxis.axis_label = 'RF Amplitude (µT)'\n",
    "\n",
    "grad_plot = bkp.figure(width=800, height=400, title='Gradient pulses', x_range=rf_plot.x_range)\n",
    "grad_plot.line(time, G[..., 0, 0, 0, 0], line_width=2, alpha=0.5, color='green')\n",
    "grad_plot.yaxis.axis_label = 'Gradient Amplitude (T/m)'\n",
    "\n",
    "bkp.show(bkp.gridplot([[rf_plot], [grad_plot]]))"
   ]
  },
  {
   "cell_type": "code",
   "execution_count": null,
   "metadata": {},
   "outputs": [],
   "source": [
    "mags = bloch.sim(B, T1, T2, duration, dt)"
   ]
  },
  {
   "cell_type": "code",
   "execution_count": null,
   "metadata": {},
   "outputs": [],
   "source": [
    "lab_eff = flow.integrate_across_vessel(radial, bloch.labelling_efficiency(bloch.inverted_magnetization(mags, time, T1, flow_position)), axis=2)[..., 0, 0]"
   ]
  },
  {
   "cell_type": "code",
   "execution_count": null,
   "metadata": {},
   "outputs": [],
   "source": [
    "# time, diastolic flow velocity, systolic flow velocity,\n",
    "# radial across vessel, off-resonance, B1, space\n",
    "mags.shape"
   ]
  },
  {
   "cell_type": "markdown",
   "metadata": {},
   "source": [
    "## Results Visualization"
   ]
  },
  {
   "cell_type": "code",
   "execution_count": null,
   "metadata": {},
   "outputs": [],
   "source": [
    "# bokeh plot for trajectory\n",
    "p = bkp.figure(width=800, height=300, title='Blood flow', x_range=(flow_time[0], flow_time[-1]))\n",
    "p.line(flow_time, flow_position[:, 3, 4, 0], line_width=2, legend_label='Position')\n",
    "p.xaxis.axis_label = 'Time (s)'\n",
    "p.yaxis.axis_label = 'Position (m)'\n",
    "p.line([flow_time[0], flow_time[-1]], [0] * 2, line_color='red', line_width=2,\n",
    "       line_dash='dashed', legend_label='Labeling plane')\n",
    "p.legend.click_policy = 'hide'\n",
    "p.legend.location = 'top_left'\n",
    "bkp.output_file('tmp.html')\n",
    "# bkp.save(p)\n",
    "bkp.show(p)\n"
   ]
  },
  {
   "cell_type": "code",
   "execution_count": null,
   "metadata": {},
   "outputs": [],
   "source": [
    "# plot magnetization with bokeh\n",
    "plot = bkp.figure(width=800, height=400, title='Magnetization')\n",
    "plot.line(time, mags[:, 3, 4, 0, 0, 0, 0], line_width=2, legend_label='Mx', alpha=0.5)\n",
    "plot.line(time, mags[:, 3, 4, 0, 0, 0, 1], line_width=2, legend_label='My', color='orange', alpha=0.5)\n",
    "plot.line(time, mags[:, 3, 4, 0, 0, 0, 2], line_width=2, legend_label='Mz', color='green')\n",
    "plot.xaxis.axis_label = 'Time (s)'\n",
    "plot.yaxis.axis_label = 'Magnetization (ref M0)'\n",
    "plot.x_range = bkm.DataRange1d(start=0, end=duration)\n",
    "plot.legend.click_policy = 'hide'\n",
    "\n",
    "# bkp.output_file('magnetization_time_signal.html')\n",
    "# bkp.save(plot)\n",
    "bkp.show(plot)"
   ]
  },
  {
   "cell_type": "code",
   "execution_count": null,
   "metadata": {},
   "outputs": [],
   "source": [
    "mags[-1, 3, 4, 0, -1, -1, -1]"
   ]
  },
  {
   "cell_type": "code",
   "execution_count": null,
   "metadata": {},
   "outputs": [],
   "source": [
    "# plot magnetization flow rates with bokeh\n",
    "title = 'Longitudinal Magnetization History with Pulsatile Blood Flow Diastolic Velocity'\n",
    "plot = bkp.figure(width=1000, height=500, title=title)\n",
    "lines = ['solid', 'dashed']\n",
    "for index in range(end := mags.shape[1]):\n",
    "    alpha = 1 - index / end\n",
    "    plot.line(time, mags[:, index, 4, 0, -1, -1, 2], line_width=2, line_dash=lines[index % 2 == 0],\n",
    "              legend_label=f'{100 * flow_velocity[:, index, 4, 0].min(axis=0):.3g} cm/s',\n",
    "              alpha=alpha, color='purple')\n",
    "plot.xaxis.axis_label = 'Time (s)'\n",
    "plot.yaxis.axis_label = 'Magnetization (ref M0)'\n",
    "plot.x_range = bkm.DataRange1d(start=0, end=1) # duration)\n",
    "plot.legend.location = 'bottom_left'\n",
    "plot.legend.click_policy = 'hide'\n",
    "bkp.show(plot)\n"
   ]
  },
  {
   "cell_type": "code",
   "execution_count": null,
   "metadata": {},
   "outputs": [],
   "source": [
    "# plot magnetization flow rates with bokeh\n",
    "title = 'Longitudinal Magnetization History with Pulsatile Blood Flow Systolic Velocity'\n",
    "plot = bkp.figure(width=1000, height=500, title=title)\n",
    "lines = ['solid', 'dashed']\n",
    "for index in range(2, end := mags.shape[2]):\n",
    "    alpha = 1 - index / end\n",
    "    plot.line(time, mags[:, 3, index, 0, -1, -1, 2], line_width=2, line_dash=lines[index % 2 == 0],\n",
    "              legend_label=f'{100 * flow_velocity[:, 3, index, 0].max(axis=0):.3g} cm/s',\n",
    "              alpha=alpha, color='purple')\n",
    "plot.xaxis.axis_label = 'Time (s)'\n",
    "plot.yaxis.axis_label = 'Magnetization (ref M0)'\n",
    "plot.x_range = bkm.DataRange1d(start=0, end=1) # duration)\n",
    "plot.legend.location = 'bottom_left'\n",
    "plot.legend.click_policy = 'hide'\n",
    "bkp.show(plot)"
   ]
  },
  {
   "cell_type": "code",
   "execution_count": null,
   "metadata": {},
   "outputs": [],
   "source": [
    "# plot magnetization flow rates with bokeh\n",
    "title = 'Longitudinal Magnetization History Average Across Vessel with Pulsatile Blood Flow Velocity'\n",
    "plot = bkp.figure(width=1000, height=500, title=title)\n",
    "for index in range(0, end := mags.shape[2], end // 10):\n",
    "    alpha = 1 - index / end\n",
    "    plot.line(time, mags[:, 3, index, :, -1, -1, 2].mean(axis=1), line_width=2, legend_label=f'{100 * flow_velocity[:, 3, index, 0].max(axis=0):.3g} cm/s',\n",
    "              alpha=alpha, color='purple')\n",
    "plot.xaxis.axis_label = 'Time (s)'\n",
    "plot.yaxis.axis_label = 'Magnetization (ref M0)'\n",
    "plot.x_range = bkm.DataRange1d(start=0, end=duration)\n",
    "plot.legend.click_policy = 'hide'\n",
    "bkp.show(plot)"
   ]
  },
  {
   "cell_type": "code",
   "execution_count": null,
   "metadata": {},
   "outputs": [],
   "source": [
    "# mean before lab eff calc\n",
    "# lab_eff = labelling_efficiency(inverted_magnetization(mags[..., 0, :, :].mean(axis=2), time, T1, position.mean(axis=2)[..., 0]))\n",
    "\n",
    "# just mean for lab eff calc\n",
    "# lab_eff = labelling_efficiency(inverted_magnetization(mags, time, T1, position))[..., 0, :].mean(axis=1)"
   ]
  },
  {
   "cell_type": "code",
   "execution_count": null,
   "metadata": {},
   "outputs": [],
   "source": [
    "# use bokeh to plot labelling efficiency vs systolic velocity\n",
    "plot = bkp.figure(width=800, height=400, title='Labeling Efficiency vs Systolic and Diastolic Velocity')\n",
    "for i, dv in enumerate(diastolic_velocity):\n",
    "    alpha = i / len(diastolic_velocity) + 0.1\n",
    "    plot.line(systolic * 100, lab_eff[i], line_width=2, alpha=alpha, legend_label=f'Diastolic: {dv * 100:.2f} cm/s')\n",
    "plot.xaxis.axis_label = 'Systolic Velocity (cm/s)'\n",
    "plot.yaxis.axis_label = 'Labeling Efficiency'\n",
    "plot.legend.location = 'bottom_right'\n",
    "bkp.show(plot)"
   ]
  },
  {
   "cell_type": "code",
   "execution_count": null,
   "metadata": {},
   "outputs": [],
   "source": [
    "# use bokeh to plot labelling efficiency vs systolic velocity\n",
    "plot = bkp.figure(width=800, height=400, title='Labeling Efficiency vs Systolic Velocity')\n",
    "# loop over B1 inhomogeneity\n",
    "for i, b1 in enumerate(B1_homogeneity):\n",
    "    plot.line(systolic[:, 0] * 100, lab_eff[:, i], line_width=2, alpha=b1, legend_label=f'B1: {b1:.2f}')\n",
    "plot.xaxis.axis_label = 'Systolic Velocity (cm/s)'\n",
    "plot.yaxis.axis_label = 'Labeling Efficiency'\n",
    "plot.legend.location = 'bottom_right'\n",
    "bkp.show(plot)"
   ]
  },
  {
   "cell_type": "code",
   "execution_count": null,
   "metadata": {},
   "outputs": [],
   "source": [
    "# # plot magnetization off-resonances with bokeh\n",
    "# title = 'Longitudinal Magnetization with Off-Resonance Pulse'\n",
    "# plot = bkp.figure(width=1000, height=500, title=title)\n",
    "# for offres in range(0, end := mags.shape[2], end // 10):\n",
    "#     alpha = 1 - offres / end\n",
    "#     plot.line(time, mags[:, flindex, offres, -1, 2], line_width=2, legend_label=f'{dfz[offres]:g} Hz',\n",
    "#               alpha=alpha, color='green')\n",
    "# plot.xaxis.axis_label = 'Time (s)'\n",
    "# plot.yaxis.axis_label = 'Magnetization (ref M0)'\n",
    "# plot.x_range = bkm.DataRange1d(start=0, end=duration)\n",
    "# plot.legend.click_policy = 'hide'\n",
    "# bkp.show(plot)"
   ]
  },
  {
   "cell_type": "code",
   "execution_count": null,
   "metadata": {},
   "outputs": [],
   "source": [
    "# flipped = np.argmin(mags[..., 10, :, -1, 2], axis=0)\n",
    "# plot = bkp.figure(width=800, height=400, title='Flipped Magnetization Spectrum')\n",
    "# plot.line(dfz, np.take_along_axis(mags[..., 10, :, -1, 2], flipped[np.newaxis], axis=0)[0],\n",
    "#           line_width=2, legend_label='Min Mz')\n",
    "# plot.line(dfz, time[flipped], line_width=2, color='red', legend_label='Time of Min Mz (s)')\n",
    "# plot.xaxis.axis_label = 'Off-Resonance Frequency (Hz)'\n",
    "# plot.yaxis.axis_label = 'Magnetization (ref M0)'\n",
    "# plot.y_range = bkm.DataRange1d(start=-1, end=1)\n",
    "# plot.legend.click_policy = 'hide'\n",
    "# bkp.show(plot)"
   ]
  },
  {
   "cell_type": "code",
   "execution_count": null,
   "metadata": {},
   "outputs": [],
   "source": [
    "flow = asnumpy(100 * systolic) # cm/s\n",
    "dv = asnumpy(100 * diastolic_velocity)\n",
    "\n",
    "title = 'Labelling Efficiency'\n",
    "plot = bkp.figure(width=1000, height=500) #, title=title)\n",
    "color_mapper = bkm.LinearColorMapper(palette='Viridis256', low=0, high=1)\n",
    "image = plot.image([asnumpy(lab_eff.T)], y=[dv.min()], x=[flow.min()],\n",
    "                    dh=[dv.max() - dv.min()],\n",
    "                    dw=[flow.max() - flow.min()], color_mapper=color_mapper)\n",
    "plot.xaxis.axis_label = 'Pulsatile Blood Flow Systolic Velocity (cm/s)'\n",
    "plot.yaxis.axis_label = 'Pulsatile Blood Flow Diastolic Velocity (cm/s)'\n",
    "plot.x_range = bkm.DataRange1d(start=flow.min(), end=flow.max())\n",
    "plot.y_range = bkm.DataRange1d(start=dv.min(), end=dv.max())\n",
    "\n",
    "# add colourbar\n",
    "color_bar = bkm.ColorBar(color_mapper=color_mapper, location=(0, 0))\n",
    "color_bar.title = title\n",
    "plot.add_layout(color_bar, 'right')\n",
    "\n",
    "bkp.output_file(f'{title}.html')\n",
    "bkp.save(plot)\n",
    "# bkp.show(plot)"
   ]
  },
  {
   "cell_type": "code",
   "execution_count": null,
   "metadata": {},
   "outputs": [],
   "source": [
    "# ! open \"{Out[144]}\""
   ]
  },
  {
   "cell_type": "code",
   "execution_count": null,
   "metadata": {},
   "outputs": [],
   "source": [
    "# flow = asnumpy(100 * flow_velocity.max(axis=-1)) # cm/s\n",
    "# b1 = asnumpy(B1_homogeneity)\n",
    "\n",
    "# title = 'Labelling Efficiency'\n",
    "# plot = bkp.figure(width=1000, height=500) #, title=title)\n",
    "# color_mapper = bkm.LinearColorMapper(palette='Viridis256', low=0, high=1)\n",
    "# image = plot.image([asnumpy(lab_eff.T)], y=[b1.min()], x=[flow.min()],\n",
    "#                     dh=[b1.max() - b1.min()],\n",
    "#                     dw=[flow.max() - flow.min()], color_mapper=color_mapper)\n",
    "# plot.xaxis.axis_label = 'Max Pulsatile Blood Flow Velocity (cm/s)'\n",
    "# plot.yaxis.axis_label = 'B1 Homogeneity'\n",
    "# plot.x_range = bkm.DataRange1d(start=flow.min(), end=flow.max())\n",
    "# plot.y_range = bkm.DataRange1d(start=b1.min(), end=b1.max())\n",
    "\n",
    "# # add colourbar\n",
    "# color_bar = bkm.ColorBar(color_mapper=color_mapper, location=(0, 0))\n",
    "# color_bar.title = title\n",
    "# plot.add_layout(color_bar, 'right')\n",
    "\n",
    "# bkp.output_file(f'{title}.html')\n",
    "# bkp.save(plot)\n",
    "# # bkp.show(plot)"
   ]
  },
  {
   "cell_type": "code",
   "execution_count": null,
   "metadata": {},
   "outputs": [],
   "source": [
    "# save mags, B_field, time compressed numpy file\n",
    "# np.savez_compressed('asl_simulation.npz', mags=mags[:, 0], B_field=B[:, 0], time=time)"
   ]
  },
  {
   "cell_type": "code",
   "execution_count": null,
   "metadata": {},
   "outputs": [],
   "source": []
  }
 ],
 "metadata": {
  "kernelspec": {
   "display_name": "py3.12",
   "language": "python",
   "name": "python3"
  },
  "language_info": {
   "codemirror_mode": {
    "name": "ipython",
    "version": 3
   },
   "file_extension": ".py",
   "mimetype": "text/x-python",
   "name": "python",
   "nbconvert_exporter": "python",
   "pygments_lexer": "ipython3",
   "version": "3.12.1"
  }
 },
 "nbformat": 4,
 "nbformat_minor": 2
}
