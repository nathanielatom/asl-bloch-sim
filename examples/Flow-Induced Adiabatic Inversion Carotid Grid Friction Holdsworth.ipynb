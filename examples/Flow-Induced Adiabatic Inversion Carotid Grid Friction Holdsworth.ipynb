{
 "cells": [
  {
   "cell_type": "code",
   "execution_count": 54,
   "metadata": {},
   "outputs": [
    {
     "data": {
      "text/html": [
       "    <style>\n",
       "        .bk-notebook-logo {\n",
       "            display: block;\n",
       "            width: 20px;\n",
       "            height: 20px;\n",
       "            background-image: url(data:image/png;base64,iVBORw0KGgoAAAANSUhEUgAAABQAAAAUCAYAAACNiR0NAAAABHNCSVQICAgIfAhkiAAAAAlwSFlzAAALEgAACxIB0t1+/AAAABx0RVh0U29mdHdhcmUAQWRvYmUgRmlyZXdvcmtzIENTNui8sowAAAOkSURBVDiNjZRtaJVlGMd/1/08zzln5zjP1LWcU9N0NkN8m2CYjpgQYQXqSs0I84OLIC0hkEKoPtiH3gmKoiJDU7QpLgoLjLIQCpEsNJ1vqUOdO7ppbuec5+V+rj4ctwzd8IIbbi6u+8f1539dt3A78eXC7QizUF7gyV1fD1Yqg4JWz84yffhm0qkFqBogB9rM8tZdtwVsPUhWhGcFJngGeWrPzHm5oaMmkfEg1usvLFyc8jLRqDOMru7AyC8saQr7GG7f5fvDeH7Ej8CM66nIF+8yngt6HWaKh7k49Soy9nXurCi1o3qUbS3zWfrYeQDTB/Qj6kX6Ybhw4B+bOYoLKCC9H3Nu/leUTZ1JdRWkkn2ldcCamzrcf47KKXdAJllSlxAOkRgyHsGC/zRday5Qld9DyoM4/q/rUoy/CXh3jzOu3bHUVZeU+DEn8FInkPBFlu3+nW3Nw0mk6vCDiWg8CeJaxEwuHS3+z5RgY+YBR6V1Z1nxSOfoaPa4LASWxxdNp+VWTk7+4vzaou8v8PN+xo+KY2xsw6une2frhw05CTYOmQvsEhjhWjn0bmXPjpE1+kplmmkP3suftwTubK9Vq22qKmrBhpY4jvd5afdRA3wGjFAgcnTK2s4hY0/GPNIb0nErGMCRxWOOX64Z8RAC4oCXdklmEvcL8o0BfkNK4lUg9HTl+oPlQxdNo3Mg4Nv175e/1LDGzZen30MEjRUtmXSfiTVu1kK8W4txyV6BMKlbgk3lMwYCiusNy9fVfvvwMxv8Ynl6vxoByANLTWplvuj/nF9m2+PDtt1eiHPBr1oIfhCChQMBw6Aw0UulqTKZdfVvfG7VcfIqLG9bcldL/+pdWTLxLUy8Qq38heUIjh4XlzZxzQm19lLFlr8vdQ97rjZVOLf8nclzckbcD4wxXMidpX30sFd37Fv/GtwwhzhxGVAprjbg0gCAEeIgwCZyTV2Z1REEW8O4py0wsjeloKoMr6iCY6dP92H6Vw/oTyICIthibxjm/DfN9lVz8IqtqKYLUXfoKVMVQVVJOElGjrnnUt9T9wbgp8AyYKaGlqingHZU/uG2NTZSVqwHQTWkx9hxjkpWDaCg6Ckj5qebgBVbT3V3NNXMSiWSDdGV3hrtzla7J+duwPOToIg42ChPQOQjspnSlp1V+Gjdged7+8UN5CRAV7a5EdFNwCjEaBR27b3W890TE7g24NAP/mMDXRWrGoFPQI9ls/MWO2dWFAar/xcOIImbbpA3zgAAAABJRU5ErkJggg==);\n",
       "        }\n",
       "    </style>\n",
       "    <div>\n",
       "        <a href=\"https://bokeh.org\" target=\"_blank\" class=\"bk-notebook-logo\"></a>\n",
       "        <span id=\"d19236f9-5610-441c-aed9-8a32f96fd0c9\">Loading BokehJS ...</span>\n",
       "    </div>\n"
      ]
     },
     "metadata": {},
     "output_type": "display_data"
    },
    {
     "data": {
      "application/javascript": "'use strict';\n(function(root) {\n  function now() {\n    return new Date();\n  }\n\n  const force = true;\n\n  if (typeof root._bokeh_onload_callbacks === \"undefined\" || force === true) {\n    root._bokeh_onload_callbacks = [];\n    root._bokeh_is_loading = undefined;\n  }\n\nconst JS_MIME_TYPE = 'application/javascript';\n  const HTML_MIME_TYPE = 'text/html';\n  const EXEC_MIME_TYPE = 'application/vnd.bokehjs_exec.v0+json';\n  const CLASS_NAME = 'output_bokeh rendered_html';\n\n  /**\n   * Render data to the DOM node\n   */\n  function render(props, node) {\n    const script = document.createElement(\"script\");\n    node.appendChild(script);\n  }\n\n  /**\n   * Handle when an output is cleared or removed\n   */\n  function handleClearOutput(event, handle) {\n    function drop(id) {\n      const view = Bokeh.index.get_by_id(id)\n      if (view != null) {\n        view.model.document.clear()\n        Bokeh.index.delete(view)\n      }\n    }\n\n    const cell = handle.cell;\n\n    const id = cell.output_area._bokeh_element_id;\n    const server_id = cell.output_area._bokeh_server_id;\n\n    // Clean up Bokeh references\n    if (id != null) {\n      drop(id)\n    }\n\n    if (server_id !== undefined) {\n      // Clean up Bokeh references\n      const cmd_clean = \"from bokeh.io.state import curstate; print(curstate().uuid_to_server['\" + server_id + \"'].get_sessions()[0].document.roots[0]._id)\";\n      cell.notebook.kernel.execute(cmd_clean, {\n        iopub: {\n          output: function(msg) {\n            const id = msg.content.text.trim()\n            drop(id)\n          }\n        }\n      });\n      // Destroy server and session\n      const cmd_destroy = \"import bokeh.io.notebook as ion; ion.destroy_server('\" + server_id + \"')\";\n      cell.notebook.kernel.execute(cmd_destroy);\n    }\n  }\n\n  /**\n   * Handle when a new output is added\n   */\n  function handleAddOutput(event, handle) {\n    const output_area = handle.output_area;\n    const output = handle.output;\n\n    // limit handleAddOutput to display_data with EXEC_MIME_TYPE content only\n    if ((output.output_type != \"display_data\") || (!Object.prototype.hasOwnProperty.call(output.data, EXEC_MIME_TYPE))) {\n      return\n    }\n\n    const toinsert = output_area.element.find(\".\" + CLASS_NAME.split(' ')[0]);\n\n    if (output.metadata[EXEC_MIME_TYPE][\"id\"] !== undefined) {\n      toinsert[toinsert.length - 1].firstChild.textContent = output.data[JS_MIME_TYPE];\n      // store reference to embed id on output_area\n      output_area._bokeh_element_id = output.metadata[EXEC_MIME_TYPE][\"id\"];\n    }\n    if (output.metadata[EXEC_MIME_TYPE][\"server_id\"] !== undefined) {\n      const bk_div = document.createElement(\"div\");\n      bk_div.innerHTML = output.data[HTML_MIME_TYPE];\n      const script_attrs = bk_div.children[0].attributes;\n      for (let i = 0; i < script_attrs.length; i++) {\n        toinsert[toinsert.length - 1].firstChild.setAttribute(script_attrs[i].name, script_attrs[i].value);\n        toinsert[toinsert.length - 1].firstChild.textContent = bk_div.children[0].textContent\n      }\n      // store reference to server id on output_area\n      output_area._bokeh_server_id = output.metadata[EXEC_MIME_TYPE][\"server_id\"];\n    }\n  }\n\n  function register_renderer(events, OutputArea) {\n\n    function append_mime(data, metadata, element) {\n      // create a DOM node to render to\n      const toinsert = this.create_output_subarea(\n        metadata,\n        CLASS_NAME,\n        EXEC_MIME_TYPE\n      );\n      this.keyboard_manager.register_events(toinsert);\n      // Render to node\n      const props = {data: data, metadata: metadata[EXEC_MIME_TYPE]};\n      render(props, toinsert[toinsert.length - 1]);\n      element.append(toinsert);\n      return toinsert\n    }\n\n    /* Handle when an output is cleared or removed */\n    events.on('clear_output.CodeCell', handleClearOutput);\n    events.on('delete.Cell', handleClearOutput);\n\n    /* Handle when a new output is added */\n    events.on('output_added.OutputArea', handleAddOutput);\n\n    /**\n     * Register the mime type and append_mime function with output_area\n     */\n    OutputArea.prototype.register_mime_type(EXEC_MIME_TYPE, append_mime, {\n      /* Is output safe? */\n      safe: true,\n      /* Index of renderer in `output_area.display_order` */\n      index: 0\n    });\n  }\n\n  // register the mime type if in Jupyter Notebook environment and previously unregistered\n  if (root.Jupyter !== undefined) {\n    const events = require('base/js/events');\n    const OutputArea = require('notebook/js/outputarea').OutputArea;\n\n    if (OutputArea.prototype.mime_types().indexOf(EXEC_MIME_TYPE) == -1) {\n      register_renderer(events, OutputArea);\n    }\n  }\n  if (typeof (root._bokeh_timeout) === \"undefined\" || force === true) {\n    root._bokeh_timeout = Date.now() + 5000;\n    root._bokeh_failed_load = false;\n  }\n\n  const NB_LOAD_WARNING = {'data': {'text/html':\n     \"<div style='background-color: #fdd'>\\n\"+\n     \"<p>\\n\"+\n     \"BokehJS does not appear to have successfully loaded. If loading BokehJS from CDN, this \\n\"+\n     \"may be due to a slow or bad network connection. Possible fixes:\\n\"+\n     \"</p>\\n\"+\n     \"<ul>\\n\"+\n     \"<li>re-rerun `output_notebook()` to attempt to load from CDN again, or</li>\\n\"+\n     \"<li>use INLINE resources instead, as so:</li>\\n\"+\n     \"</ul>\\n\"+\n     \"<code>\\n\"+\n     \"from bokeh.resources import INLINE\\n\"+\n     \"output_notebook(resources=INLINE)\\n\"+\n     \"</code>\\n\"+\n     \"</div>\"}};\n\n  function display_loaded(error = null) {\n    const el = document.getElementById(\"d19236f9-5610-441c-aed9-8a32f96fd0c9\");\n    if (el != null) {\n      const html = (() => {\n        if (typeof root.Bokeh === \"undefined\") {\n          if (error == null) {\n            return \"BokehJS is loading ...\";\n          } else {\n            return \"BokehJS failed to load.\";\n          }\n        } else {\n          const prefix = `BokehJS ${root.Bokeh.version}`;\n          if (error == null) {\n            return `${prefix} successfully loaded.`;\n          } else {\n            return `${prefix} <b>encountered errors</b> while loading and may not function as expected.`;\n          }\n        }\n      })();\n      el.innerHTML = html;\n\n      if (error != null) {\n        const wrapper = document.createElement(\"div\");\n        wrapper.style.overflow = \"auto\";\n        wrapper.style.height = \"5em\";\n        wrapper.style.resize = \"vertical\";\n        const content = document.createElement(\"div\");\n        content.style.fontFamily = \"monospace\";\n        content.style.whiteSpace = \"pre-wrap\";\n        content.style.backgroundColor = \"rgb(255, 221, 221)\";\n        content.textContent = error.stack ?? error.toString();\n        wrapper.append(content);\n        el.append(wrapper);\n      }\n    } else if (Date.now() < root._bokeh_timeout) {\n      setTimeout(() => display_loaded(error), 100);\n    }\n  }\n\n  function run_callbacks() {\n    try {\n      root._bokeh_onload_callbacks.forEach(function(callback) {\n        if (callback != null)\n          callback();\n      });\n    } finally {\n      delete root._bokeh_onload_callbacks\n    }\n    console.debug(\"Bokeh: all callbacks have finished\");\n  }\n\n  function load_libs(css_urls, js_urls, callback) {\n    if (css_urls == null) css_urls = [];\n    if (js_urls == null) js_urls = [];\n\n    root._bokeh_onload_callbacks.push(callback);\n    if (root._bokeh_is_loading > 0) {\n      console.debug(\"Bokeh: BokehJS is being loaded, scheduling callback at\", now());\n      return null;\n    }\n    if (js_urls == null || js_urls.length === 0) {\n      run_callbacks();\n      return null;\n    }\n    console.debug(\"Bokeh: BokehJS not loaded, scheduling load and callback at\", now());\n    root._bokeh_is_loading = css_urls.length + js_urls.length;\n\n    function on_load() {\n      root._bokeh_is_loading--;\n      if (root._bokeh_is_loading === 0) {\n        console.debug(\"Bokeh: all BokehJS libraries/stylesheets loaded\");\n        run_callbacks()\n      }\n    }\n\n    function on_error(url) {\n      console.error(\"failed to load \" + url);\n    }\n\n    for (let i = 0; i < css_urls.length; i++) {\n      const url = css_urls[i];\n      const element = document.createElement(\"link\");\n      element.onload = on_load;\n      element.onerror = on_error.bind(null, url);\n      element.rel = \"stylesheet\";\n      element.type = \"text/css\";\n      element.href = url;\n      console.debug(\"Bokeh: injecting link tag for BokehJS stylesheet: \", url);\n      document.body.appendChild(element);\n    }\n\n    for (let i = 0; i < js_urls.length; i++) {\n      const url = js_urls[i];\n      const element = document.createElement('script');\n      element.onload = on_load;\n      element.onerror = on_error.bind(null, url);\n      element.async = false;\n      element.src = url;\n      console.debug(\"Bokeh: injecting script tag for BokehJS library: \", url);\n      document.head.appendChild(element);\n    }\n  };\n\n  function inject_raw_css(css) {\n    const element = document.createElement(\"style\");\n    element.appendChild(document.createTextNode(css));\n    document.body.appendChild(element);\n  }\n\n  const js_urls = [\"https://cdn.bokeh.org/bokeh/release/bokeh-3.8.0.min.js\", \"https://cdn.bokeh.org/bokeh/release/bokeh-gl-3.8.0.min.js\", \"https://cdn.bokeh.org/bokeh/release/bokeh-widgets-3.8.0.min.js\", \"https://cdn.bokeh.org/bokeh/release/bokeh-tables-3.8.0.min.js\", \"https://cdn.bokeh.org/bokeh/release/bokeh-mathjax-3.8.0.min.js\"];\n  const css_urls = [];\n\n  const inline_js = [    function(Bokeh) {\n      Bokeh.set_log_level(\"info\");\n    },\nfunction(Bokeh) {\n    }\n  ];\n\n  function run_inline_js() {\n    if (root.Bokeh !== undefined || force === true) {\n      try {\n            for (let i = 0; i < inline_js.length; i++) {\n      inline_js[i].call(root, root.Bokeh);\n    }\n\n      } catch (error) {display_loaded(error);throw error;\n      }if (force === true) {\n        display_loaded();\n      }} else if (Date.now() < root._bokeh_timeout) {\n      setTimeout(run_inline_js, 100);\n    } else if (!root._bokeh_failed_load) {\n      console.log(\"Bokeh: BokehJS failed to load within specified timeout.\");\n      root._bokeh_failed_load = true;\n    } else if (force !== true) {\n      const cell = $(document.getElementById(\"d19236f9-5610-441c-aed9-8a32f96fd0c9\")).parents('.cell').data().cell;\n      cell.output_area.append_execute_result(NB_LOAD_WARNING)\n    }\n  }\n\n  if (root._bokeh_is_loading === 0) {\n    console.debug(\"Bokeh: BokehJS loaded, going straight to plotting\");\n    run_inline_js();\n  } else {\n    load_libs(css_urls, js_urls, function() {\n      console.debug(\"Bokeh: BokehJS plotting callback run at\", now());\n      run_inline_js();\n    });\n  }\n}(window));",
      "application/vnd.bokehjs_load.v0+json": ""
     },
     "metadata": {},
     "output_type": "display_data"
    }
   ],
   "source": [
    "import numpy as np\n",
    "import scipy.signal as sig\n",
    "import bokeh.plotting as bkp\n",
    "import bokeh.models as bkm\n",
    "bkp.output_notebook()\n",
    "\n",
    "import os\n",
    "os.environ['ARRAY_MODULE'] = 'numpy'\n",
    "from asl_bloch_sim import bloch, rf, flow\n",
    "from asl_bloch_sim import xp, asnumpy"
   ]
  },
  {
   "cell_type": "code",
   "execution_count": 2,
   "metadata": {},
   "outputs": [],
   "source": [
    "dt = 0.00002 # seconds\n",
    "# PCASL: A typical real sequence may use 750 0.5 ms, 20º, Hann RF pulses over a 1500 ms period\n",
    "# 750 pulses with these durations corresponds to a duty cycle of 0.5\n",
    "duration = 2.2 # 2.5 # seconds\n",
    "label_duration = 2 # seconds\n",
    "num_reps = 2500 # 1333\n",
    "\n",
    "flip_angle = 20 # degrees\n",
    "rf_duration = 0.0005 # seconds\n",
    "rf_bandwidth = 2500 # Hz\n",
    "\n",
    "G_max = 15e-3 # T/m\n",
    "G_avg = 1e-3 # T/m\n",
    "S_max = 150 # T/m/s # look up max skew rate for your scanner\n",
    "\n",
    "off_resonance = 2000 # Hz\n",
    "spectrum_lines = 1 # 5\n",
    "B1_homogeneity = np.array([1]) # np.linspace(0.5, 1, 51) # fraction of B1\n",
    "\n",
    "position_offset = 0.1 # 0.04 # m\n",
    "diastolic_velocity = np.linspace(0, 0.25, 36) # np.array([0.137]) # np.linspace(0, 0.25, 26) # m/s\n",
    "systolic = np.linspace(0, 1.5, 58) # np.linspace(0, 1.5, 31) # m/s\n",
    "radial, vessel_cross_section = flow.speed_across_vessel(normalized=True, num=7)\n",
    "flow_time, flow_velocity, flow_position = flow.holdsworth_cca(stop=duration, # + 0.5,\n",
    "                                                              num=round(duration / dt),\n",
    "                                                              cross_section=vessel_cross_section,\n",
    "                                                              systolic_velocity=systolic,\n",
    "                                                              diastolic_velocity=diastolic_velocity)\n",
    "flow_position -= position_offset\n",
    "\n",
    "T1 = 1.65 # seconds # https://doi.org/10.1002/mrm.25197\n",
    "T2 = 0.186 # seconds # https://doi.org/10.1002/mrm.21858"
   ]
  },
  {
   "cell_type": "code",
   "execution_count": 3,
   "metadata": {},
   "outputs": [
    {
     "data": {
      "text/plain": [
       "15.0"
      ]
     },
     "execution_count": 3,
     "metadata": {},
     "output_type": "execute_result"
    }
   ],
   "source": [
    "G_max / G_avg"
   ]
  },
  {
   "cell_type": "code",
   "execution_count": 4,
   "metadata": {},
   "outputs": [
    {
     "data": {
      "text/plain": [
       "(110000, 36, 58, 7)"
      ]
     },
     "execution_count": 4,
     "metadata": {},
     "output_type": "execute_result"
    }
   ],
   "source": [
    "flow_position.shape"
   ]
  },
  {
   "cell_type": "code",
   "execution_count": 5,
   "metadata": {},
   "outputs": [],
   "source": [
    "# velo_at_plane = np.take_along_axis(flow_velocity, np.abs(flow_position).argmin(axis=0)[np.newaxis], axis=0)[0]\n",
    "# velo_at_plane[0, -1, 0] # m/s\n"
   ]
  },
  {
   "cell_type": "code",
   "execution_count": 6,
   "metadata": {},
   "outputs": [],
   "source": [
    "# time_at_plane = flow_time[np.abs(flow_position).argmin(axis=0)]\n",
    "# time_at_plane[0, -1, 0] # s"
   ]
  },
  {
   "cell_type": "code",
   "execution_count": 7,
   "metadata": {},
   "outputs": [],
   "source": [
    "# # bokeh plot for trajectory\n",
    "# p = bkp.figure(width=800, height=300, title='Blood flow', x_range=(flow_time[0], flow_time[-1]))\n",
    "# for i in range(flow_position.shape[2]):\n",
    "#        p.line(flow_time, flow_position[:, 3, i, 0], alpha=1 - i/flow_position.shape[2], line_width=2, legend_label='Position')\n",
    "# p.xaxis.axis_label = 'Time (s)'\n",
    "# p.yaxis.axis_label = 'Position (m)'\n",
    "# p.line([flow_time[0], flow_time[-1]], [0] * 2, line_color='red', line_width=2,\n",
    "#        line_dash='dashed', legend_label='Labeling plane')\n",
    "# p.legend.click_policy = 'hide'\n",
    "# p.legend.location = 'top_left'\n",
    "# # bkp.output_file('blood_trajectory.html')\n",
    "# # bkp.save(p)\n",
    "# bkp.show(p)\n"
   ]
  },
  {
   "cell_type": "code",
   "execution_count": 8,
   "metadata": {},
   "outputs": [
    {
     "data": {
      "text/plain": [
       "3.9145776523025155"
      ]
     },
     "execution_count": 8,
     "metadata": {},
     "output_type": "execute_result"
    }
   ],
   "source": [
    "labelling_plane_thickness = rf_bandwidth / (bloch.GAMMA_BAR * G_max) # m\n",
    "labelling_plane_thickness * 1e3 # mm"
   ]
  },
  {
   "cell_type": "code",
   "execution_count": 9,
   "metadata": {},
   "outputs": [
    {
     "data": {
      "text/plain": [
       "800.0"
      ]
     },
     "execution_count": 9,
     "metadata": {},
     "output_type": "execute_result"
    }
   ],
   "source": [
    "DeltaT = label_duration / num_reps\n",
    "DeltaT * 1e6 # µs"
   ]
  },
  {
   "cell_type": "code",
   "execution_count": 10,
   "metadata": {},
   "outputs": [
    {
     "data": {
      "text/plain": [
       "1250.0"
      ]
     },
     "execution_count": 10,
     "metadata": {},
     "output_type": "execute_result"
    }
   ],
   "source": [
    "1/DeltaT # Hz"
   ]
  },
  {
   "cell_type": "code",
   "execution_count": 11,
   "metadata": {},
   "outputs": [
    {
     "data": {
      "text/plain": [
       "0.625"
      ]
     },
     "execution_count": 11,
     "metadata": {},
     "output_type": "execute_result"
    }
   ],
   "source": [
    "rf_duration / DeltaT"
   ]
  },
  {
   "cell_type": "code",
   "execution_count": 12,
   "metadata": {},
   "outputs": [
    {
     "data": {
      "text/plain": [
       "-0.022333333333333334"
      ]
     },
     "execution_count": 12,
     "metadata": {},
     "output_type": "execute_result"
    }
   ],
   "source": [
    "G_min = (G_avg - G_max * (rf_duration / DeltaT)) / (1 - rf_duration/DeltaT)\n",
    "G_min # T/m"
   ]
  },
  {
   "cell_type": "code",
   "execution_count": 13,
   "metadata": {},
   "outputs": [
    {
     "data": {
      "text/plain": [
       "33.09108181472206"
      ]
     },
     "execution_count": 13,
     "metadata": {},
     "output_type": "execute_result"
    }
   ],
   "source": [
    "flow_velocity[:, 0, -15, 0].mean() * 100"
   ]
  },
  {
   "cell_type": "code",
   "execution_count": 14,
   "metadata": {},
   "outputs": [
    {
     "data": {
      "text/plain": [
       "0"
      ]
     },
     "execution_count": 14,
     "metadata": {},
     "output_type": "execute_result"
    }
   ],
   "source": [
    "# clear flow_velocity to free memory\n",
    "del flow_velocity\n",
    "import gc\n",
    "gc.collect()"
   ]
  },
  {
   "cell_type": "code",
   "execution_count": 15,
   "metadata": {},
   "outputs": [],
   "source": [
    "# # bokeh plot for blood flow\n",
    "# p = bkp.figure(width=500, height=400, title='Blood Flow Velocity Waveform for the Common Carotid Artery (CCA)',\n",
    "#                x_range=(0, flow_time[-1]), y_range=(0, 85))\n",
    "# p.line(flow_time, flow_velocity[:, 0, -15, 0] * 100, line_width=2)\n",
    "# p.xaxis.axis_label = 'Time (s)'\n",
    "# p.yaxis.axis_label = 'Flow Velocity (cm/s)'\n",
    "# bkp.output_file('blood_flow_velocity_cca.html')\n",
    "# bkp.save(p)"
   ]
  },
  {
   "cell_type": "code",
   "execution_count": 16,
   "metadata": {},
   "outputs": [],
   "source": [
    "# # bokeh plot for blood flow across vessel\n",
    "# p = bkp.figure(width=500, height=400, title='Blood Flow Velocity Cross Section for the CCA',\n",
    "#                x_range=(-radial.max() * 1e3, radial.max() * 1e3), y_range=(0, 85))\n",
    "# p.line(radial * 1e3, flow_velocity[..., -15, :].max(axis=0)[0] * 100, line_width=2)\n",
    "# p.line(-radial * 1e3, flow_velocity[..., -15, :].max(axis=0)[0] * 100, line_width=2)\n",
    "# p.xaxis.axis_label = 'Vessel Radius (mm)'\n",
    "# p.yaxis.axis_label = 'Flow Velocity (cm/s)'\n",
    "# bkp.output_file('blood_flow_velocity_cross_section_cca.html')\n",
    "# bkp.save(p)"
   ]
  },
  {
   "cell_type": "code",
   "execution_count": 17,
   "metadata": {},
   "outputs": [],
   "source": [
    "# # bokeh plot for trajectory\n",
    "# p = bkp.figure(width=800, height=300, title='Blood flow', x_range=(flow_time[0], flow_time[-1]))\n",
    "# p.line(flow_time, flow_position[:, 0, -1, 0], line_width=2, legend_label='Position')\n",
    "# p.xaxis.axis_label = 'Time (s)'\n",
    "# p.yaxis.axis_label = 'Position (m)'\n",
    "# p.line([flow_time[0], flow_time[-1]], [0] * 2, line_color='red', line_width=2,\n",
    "#        line_dash='dashed', legend_label='Labeling plane')\n",
    "# p.legend.click_policy = 'hide'\n",
    "# p.legend.location = 'top_left'\n",
    "# bkp.output_file('blood_trajectory.html')\n",
    "# bkp.save(p)\n",
    "# # bkp.show(p)\n"
   ]
  },
  {
   "cell_type": "code",
   "execution_count": 18,
   "metadata": {},
   "outputs": [
    {
     "data": {
      "text/plain": [
       "9300.0"
      ]
     },
     "execution_count": 18,
     "metadata": {},
     "output_type": "execute_result"
    }
   ],
   "source": [
    "T2 / dt # >> 1"
   ]
  },
  {
   "cell_type": "code",
   "execution_count": 19,
   "metadata": {},
   "outputs": [
    {
     "data": {
      "text/plain": [
       "9.375"
      ]
     },
     "execution_count": 19,
     "metadata": {},
     "output_type": "execute_result"
    }
   ],
   "source": [
    "(G_max / G_avg) / (DeltaT / rf_duration) # >> 1 for no aliased labelling planes"
   ]
  },
  {
   "cell_type": "code",
   "execution_count": 20,
   "metadata": {},
   "outputs": [],
   "source": [
    "time = np.arange(0, duration, dt) # seconds\n",
    "rf_time = np.arange(-rf_duration / 2, rf_duration / 2, dt)\n",
    "\n",
    "rf_pulse = rf.sinc_pulse(flip_angle, rf_duration, rf_bandwidth, dt, phase_angle=90)\n",
    "rf_period = rf.extend(rf_pulse, label_duration / num_reps, dt)\n",
    "rf_label = np.tile(rf_period, num_reps)\n",
    "rf_sig = rf.extend(rf_label, duration, dt)\n",
    "\n",
    "G_period = np.append(np.full_like(rf_time, G_max), np.full(round((DeltaT - rf_duration) / dt), G_min))\n",
    "G = rf.extend(np.tile(G_period, num_reps), duration, dt)[:, np.newaxis, np.newaxis, np.newaxis, np.newaxis]\n",
    "\n",
    "dfz = np.linspace(0, off_resonance, spectrum_lines) # Hz\n",
    "B_field = bloch.construct_B_field(rf_sig, G, flow_position[..., np.newaxis], off_resonance=dfz, B1_sensitivity=B1_homogeneity)"
   ]
  },
  {
   "cell_type": "code",
   "execution_count": 21,
   "metadata": {},
   "outputs": [
    {
     "data": {
      "text/plain": [
       "208.1642573775627"
      ]
     },
     "execution_count": 21,
     "metadata": {},
     "output_type": "execute_result"
    }
   ],
   "source": [
    "(1 / (bloch.GAMMA_BAR * np.abs(rf_sig).max())) / dt # >> 1"
   ]
  },
  {
   "cell_type": "code",
   "execution_count": 22,
   "metadata": {},
   "outputs": [
    {
     "data": {
      "text/plain": [
       "5.641570318004729e-06"
      ]
     },
     "execution_count": 22,
     "metadata": {},
     "output_type": "execute_result"
    }
   ],
   "source": [
    "np.abs(rf_sig).max()"
   ]
  },
  {
   "cell_type": "code",
   "execution_count": 23,
   "metadata": {},
   "outputs": [
    {
     "data": {
      "text/plain": [
       "2.610677258053006e-06"
      ]
     },
     "execution_count": 23,
     "metadata": {},
     "output_type": "execute_result"
    }
   ],
   "source": [
    "np.abs(rf_pulse).mean()"
   ]
  },
  {
   "cell_type": "code",
   "execution_count": 24,
   "metadata": {},
   "outputs": [
    {
     "data": {
      "text/plain": [
       "1.6316732862831285"
      ]
     },
     "execution_count": 24,
     "metadata": {},
     "output_type": "execute_result"
    }
   ],
   "source": [
    "np.abs(rf_period).mean() * 1e6 # µT"
   ]
  },
  {
   "cell_type": "code",
   "execution_count": 25,
   "metadata": {},
   "outputs": [
    {
     "data": {
      "text/plain": [
       "(110000, 36, 58, 7, 1, 1, 3)"
      ]
     },
     "execution_count": 25,
     "metadata": {},
     "output_type": "execute_result"
    }
   ],
   "source": [
    "B_field.shape"
   ]
  },
  {
   "cell_type": "code",
   "execution_count": 26,
   "metadata": {},
   "outputs": [
    {
     "data": {
      "text/plain": [
       "19.29312"
      ]
     },
     "execution_count": 26,
     "metadata": {},
     "output_type": "execute_result"
    }
   ],
   "source": [
    "B_field.size * 4 / 1e9 # GB"
   ]
  },
  {
   "cell_type": "code",
   "execution_count": 27,
   "metadata": {},
   "outputs": [
    {
     "data": {
      "text/plain": [
       "numpy.ndarray"
      ]
     },
     "execution_count": 27,
     "metadata": {},
     "output_type": "execute_result"
    }
   ],
   "source": [
    "type(B_field)"
   ]
  },
  {
   "cell_type": "code",
   "execution_count": 28,
   "metadata": {},
   "outputs": [],
   "source": [
    "# # plot RF with bokeh\n",
    "# plot = bkp.figure(width=800, height=400, title='RF pulse')\n",
    "# plot.line(rf_time * 1e3, rf_pulse.real * 1e6, line_width=2)\n",
    "# plot.line(rf_time * 1e3, rf_pulse.imag * 1e6, line_width=2, color='orange')\n",
    "# plot.xaxis.axis_label = 'Time (ms)'\n",
    "# plot.yaxis.axis_label = 'RF Amplitude (µT)'\n",
    "# bkp.show(plot)"
   ]
  },
  {
   "cell_type": "code",
   "execution_count": 29,
   "metadata": {},
   "outputs": [],
   "source": [
    "# NFFT = 2 ** 17\n",
    "# freq = np.fft.fftshift(np.fft.fftfreq(NFFT, dt))\n",
    "# # signal = np.append(rf_design.extend(rf_pulse, label_duration / num_reps, dt),\n",
    "# #                    rf_design.extend(rf_pulse * -1, label_duration / num_reps, dt)).real\n",
    "# amp = np.log10(np.abs(np.fft.fftshift(np.fft.fft(rf_sig.real, n=NFFT))) / 1e-6) * 20\n",
    "# # plot RF with bokeh\n",
    "# plot = bkp.figure(width=800, height=400, title='RF pulse')\n",
    "# plot.line(freq, amp, line_width=2)\n",
    "# plot.xaxis.axis_label = 'Frequency (Hz)'\n",
    "# plot.yaxis.axis_label = 'RF Amplitude (µT)'\n",
    "# bkp.show(plot)"
   ]
  },
  {
   "cell_type": "code",
   "execution_count": 30,
   "metadata": {},
   "outputs": [],
   "source": [
    "# # plot RF and gradients with bokeh\n",
    "# rf_plot = bkp.figure(width=800, height=400, title='RF pulses')\n",
    "# rf_plot.line(time, rf_sig.real * 1e6, line_width=2, alpha=0.5)\n",
    "# rf_plot.line(time, rf_sig.imag * 1e6, line_width=2, color='orange', alpha=0.5)\n",
    "# rf_plot.xaxis.axis_label = 'Time (s)'\n",
    "# rf_plot.yaxis.axis_label = 'RF Amplitude (µT)'\n",
    "\n",
    "# grad_plot = bkp.figure(width=800, height=400, title='Gradient pulses', x_range=rf_plot.x_range)\n",
    "# grad_plot.line(time, G[..., 0, 0, 0, 0], line_width=2, alpha=0.5, color='green')\n",
    "# grad_plot.yaxis.axis_label = 'Gradient Amplitude (T/m)'\n",
    "\n",
    "# bkp.show(bkp.gridplot([[rf_plot], [grad_plot]]))"
   ]
  },
  {
   "cell_type": "code",
   "execution_count": 31,
   "metadata": {},
   "outputs": [
    {
     "name": "stderr",
     "output_type": "stream",
     "text": [
      "100%|██████████| 110000/110000 [02:08<00:00, 853.05it/s]\n"
     ]
    }
   ],
   "source": [
    "mags = bloch.sim(B_field, T1, T2, duration, dt)"
   ]
  },
  {
   "cell_type": "code",
   "execution_count": 32,
   "metadata": {},
   "outputs": [
    {
     "data": {
      "text/plain": [
       "0"
      ]
     },
     "execution_count": 32,
     "metadata": {},
     "output_type": "execute_result"
    }
   ],
   "source": [
    "# clear B_field to free memory\n",
    "del B_field\n",
    "import gc\n",
    "gc.collect()"
   ]
  },
  {
   "cell_type": "code",
   "execution_count": 33,
   "metadata": {},
   "outputs": [],
   "source": [
    "lab_eff = flow.integrate_across_vessel(radial, bloch.labelling_efficiency(bloch.inverted_magnetization(mags, time, T1, flow_position)), axis=2)[..., 0, 0]"
   ]
  },
  {
   "cell_type": "code",
   "execution_count": 34,
   "metadata": {},
   "outputs": [
    {
     "data": {
      "text/plain": [
       "(110000, 36, 58, 7, 1, 1, 3)"
      ]
     },
     "execution_count": 34,
     "metadata": {},
     "output_type": "execute_result"
    }
   ],
   "source": [
    "# time, diastolic flow velocity, systolic flow velocity,\n",
    "# radial across vessel, off-resonance, B1, space\n",
    "mags.shape"
   ]
  },
  {
   "cell_type": "code",
   "execution_count": 52,
   "metadata": {},
   "outputs": [
    {
     "data": {
      "text/plain": [
       "0.853740101366671"
      ]
     },
     "execution_count": 52,
     "metadata": {},
     "output_type": "execute_result"
    }
   ],
   "source": [
    "np.nanmax(lab_eff)"
   ]
  },
  {
   "cell_type": "markdown",
   "metadata": {},
   "source": [
    "## Results Visualization"
   ]
  },
  {
   "cell_type": "code",
   "execution_count": 35,
   "metadata": {},
   "outputs": [],
   "source": [
    "# # bokeh plot for trajectory\n",
    "# p = bkp.figure(width=800, height=300, title='Blood flow', x_range=(flow_time[0], flow_time[-1]))\n",
    "# p.line(flow_time, flow_position[:, 3, 4, 0], line_width=2, legend_label='Position')\n",
    "# p.xaxis.axis_label = 'Time (s)'\n",
    "# p.yaxis.axis_label = 'Position (m)'\n",
    "# p.line([flow_time[0], flow_time[-1]], [0] * 2, line_color='red', line_width=2,\n",
    "#        line_dash='dashed', legend_label='Labeling plane')\n",
    "# p.legend.click_policy = 'hide'\n",
    "# p.legend.location = 'top_left'\n",
    "# bkp.output_file('tmp.html')\n",
    "# # bkp.save(p)\n",
    "# bkp.show(p)\n"
   ]
  },
  {
   "cell_type": "code",
   "execution_count": 36,
   "metadata": {},
   "outputs": [
    {
     "data": {
      "text/plain": [
       "'/home/atom/Dropbox/Skule/EECE597/source/examples/magnetization_time_signal.html'"
      ]
     },
     "execution_count": 36,
     "metadata": {},
     "output_type": "execute_result"
    }
   ],
   "source": [
    "# plot magnetization with bokeh\n",
    "plot = bkp.figure(width=800, height=400, title='Magnetization')\n",
    "plot.line(time, mags[:, 3, 4, 0, 0, 0, 0], line_width=2, legend_label='Mx', alpha=0.5)\n",
    "plot.line(time, mags[:, 3, 4, 0, 0, 0, 1], line_width=2, legend_label='My', color='orange', alpha=0.5)\n",
    "plot.line(time, mags[:, 3, 4, 0, 0, 0, 2], line_width=2, legend_label='Mz', color='green')\n",
    "plot.xaxis.axis_label = 'Time (s)'\n",
    "plot.yaxis.axis_label = 'Magnetization (ref M0)'\n",
    "plot.x_range = bkm.DataRange1d(start=0, end=duration)\n",
    "plot.legend.click_policy = 'hide'\n",
    "\n",
    "bkp.output_file('magnetization_time_signal.html')\n",
    "bkp.save(plot)\n",
    "# bkp.show(plot)"
   ]
  },
  {
   "cell_type": "code",
   "execution_count": 37,
   "metadata": {},
   "outputs": [
    {
     "data": {
      "text/plain": [
       "0.99936914"
      ]
     },
     "execution_count": 37,
     "metadata": {},
     "output_type": "execute_result"
    }
   ],
   "source": [
    "mags[-1, 3, 4, 0, -1, -1, -1]"
   ]
  },
  {
   "cell_type": "code",
   "execution_count": 38,
   "metadata": {},
   "outputs": [],
   "source": [
    "# # plot magnetization flow rates with bokeh\n",
    "# title = 'Longitudinal Magnetization History with Pulsatile Blood Flow Diastolic Velocity'\n",
    "# plot = bkp.figure(width=1000, height=500, title=title)\n",
    "# lines = ['solid', 'dashed']\n",
    "# for index in range(end := mags.shape[1]):\n",
    "#     alpha = 1 - index / end\n",
    "#     plot.line(time, mags[:, index, 4, 0, -1, -1, 2], line_width=2, line_dash=lines[index % 2 == 0],\n",
    "#               legend_label=f'{100 * flow_velocity[:, index, 4, 0].min(axis=0):.3g} cm/s',\n",
    "#               alpha=alpha, color='purple')\n",
    "# plot.xaxis.axis_label = 'Time (s)'\n",
    "# plot.yaxis.axis_label = 'Magnetization (ref M0)'\n",
    "# plot.x_range = bkm.DataRange1d(start=0, end=1) # duration)\n",
    "# plot.legend.location = 'bottom_left'\n",
    "# plot.legend.click_policy = 'hide'\n",
    "# bkp.show(plot)\n"
   ]
  },
  {
   "cell_type": "code",
   "execution_count": 39,
   "metadata": {},
   "outputs": [],
   "source": [
    "# # plot magnetization flow rates with bokeh\n",
    "# title = 'Longitudinal Magnetization History with Pulsatile Blood Flow Systolic Velocity'\n",
    "# plot = bkp.figure(width=1000, height=500, title=title)\n",
    "# lines = ['solid', 'dashed']\n",
    "# for index in range(2, end := mags.shape[2]):\n",
    "#     alpha = 1 - index / end\n",
    "#     plot.line(time, mags[:, 3, index, 0, -1, -1, 2], line_width=2, line_dash=lines[index % 2 == 0],\n",
    "#               legend_label=f'{100 * flow_velocity[:, 3, index, 0].max(axis=0):.3g} cm/s',\n",
    "#               alpha=alpha, color='purple')\n",
    "# plot.xaxis.axis_label = 'Time (s)'\n",
    "# plot.yaxis.axis_label = 'Magnetization (ref M0)'\n",
    "# plot.x_range = bkm.DataRange1d(start=0, end=1) # duration)\n",
    "# plot.legend.location = 'bottom_left'\n",
    "# plot.legend.click_policy = 'hide'\n",
    "# bkp.show(plot)"
   ]
  },
  {
   "cell_type": "code",
   "execution_count": 40,
   "metadata": {},
   "outputs": [],
   "source": [
    "# # plot magnetization flow rates with bokeh\n",
    "# title = 'Longitudinal Magnetization History Average Across Vessel with Pulsatile Blood Flow Velocity'\n",
    "# plot = bkp.figure(width=1000, height=500, title=title)\n",
    "# for index in range(0, end := mags.shape[2], end // 10):\n",
    "#     alpha = 1 - index / end\n",
    "#     plot.line(time, mags[:, 3, index, :, -1, -1, 2].mean(axis=1), line_width=2, legend_label=f'{100 * flow_velocity[:, 3, index, 0].max(axis=0):.3g} cm/s',\n",
    "#               alpha=alpha, color='purple')\n",
    "# plot.xaxis.axis_label = 'Time (s)'\n",
    "# plot.yaxis.axis_label = 'Magnetization (ref M0)'\n",
    "# plot.x_range = bkm.DataRange1d(start=0, end=duration)\n",
    "# plot.legend.click_policy = 'hide'\n",
    "# bkp.show(plot)"
   ]
  },
  {
   "cell_type": "code",
   "execution_count": 41,
   "metadata": {},
   "outputs": [],
   "source": [
    "# mean before lab eff calc\n",
    "# lab_eff = labelling_efficiency(inverted_magnetization(mags[..., 0, :, :].mean(axis=2), time, T1, position.mean(axis=2)[..., 0]))\n",
    "\n",
    "# just mean for lab eff calc\n",
    "# lab_eff = labelling_efficiency(inverted_magnetization(mags, time, T1, position))[..., 0, :].mean(axis=1)"
   ]
  },
  {
   "cell_type": "code",
   "execution_count": 42,
   "metadata": {},
   "outputs": [],
   "source": [
    "# # use bokeh to plot labelling efficiency vs systolic velocity\n",
    "# plot = bkp.figure(width=1000, height=500, title='Labelling Efficiency vs Systolic and Diastolic Velocity')\n",
    "# for i, dv in enumerate(diastolic_velocity):\n",
    "#     alpha = i / len(diastolic_velocity)\n",
    "#     plot.line(systolic * 100, lab_eff[i], line_width=2, alpha=alpha, legend_label=f'Diastolic: {dv * 100:.2f} cm/s')\n",
    "# plot.xaxis.axis_label = 'Systolic Velocity (cm/s)'\n",
    "# plot.yaxis.axis_label = 'Labelling Efficiency'\n",
    "# plot.legend.location = 'bottom_right'\n",
    "# bkp.show(plot)"
   ]
  },
  {
   "cell_type": "code",
   "execution_count": 43,
   "metadata": {},
   "outputs": [],
   "source": [
    "# # use bokeh to plot labelling efficiency vs systolic velocity\n",
    "# plot = bkp.figure(width=800, height=400, title='Labelling Efficiency vs Systolic Velocity')\n",
    "# # loop over B1 inhomogeneity\n",
    "# for i, b1 in enumerate(B1_homogeneity):\n",
    "#     plot.line(systolic[:, 0] * 100, lab_eff[:, i], line_width=2, alpha=b1, legend_label=f'B1: {b1:.2f}')\n",
    "# plot.xaxis.axis_label = 'Systolic Velocity (cm/s)'\n",
    "# plot.yaxis.axis_label = 'Labelling Efficiency'\n",
    "# plot.legend.location = 'bottom_right'\n",
    "# bkp.show(plot)"
   ]
  },
  {
   "cell_type": "code",
   "execution_count": 44,
   "metadata": {},
   "outputs": [],
   "source": [
    "# # plot magnetization off-resonances with bokeh\n",
    "# title = 'Longitudinal Magnetization with Off-Resonance Pulse'\n",
    "# plot = bkp.figure(width=1000, height=500, title=title)\n",
    "# for offres in range(0, end := mags.shape[2], end // 10):\n",
    "#     alpha = 1 - offres / end\n",
    "#     plot.line(time, mags[:, flindex, offres, -1, 2], line_width=2, legend_label=f'{dfz[offres]:g} Hz',\n",
    "#               alpha=alpha, color='green')\n",
    "# plot.xaxis.axis_label = 'Time (s)'\n",
    "# plot.yaxis.axis_label = 'Magnetization (ref M0)'\n",
    "# plot.x_range = bkm.DataRange1d(start=0, end=duration)\n",
    "# plot.legend.click_policy = 'hide'\n",
    "# bkp.show(plot)"
   ]
  },
  {
   "cell_type": "code",
   "execution_count": 45,
   "metadata": {},
   "outputs": [],
   "source": [
    "# flipped = np.argmin(mags[..., 10, :, -1, 2], axis=0)\n",
    "# plot = bkp.figure(width=800, height=400, title='Flipped Magnetization Spectrum')\n",
    "# plot.line(dfz, np.take_along_axis(mags[..., 10, :, -1, 2], flipped[np.newaxis], axis=0)[0],\n",
    "#           line_width=2, legend_label='Min Mz')\n",
    "# plot.line(dfz, time[flipped], line_width=2, color='red', legend_label='Time of Min Mz (s)')\n",
    "# plot.xaxis.axis_label = 'Off-Resonance Frequency (Hz)'\n",
    "# plot.yaxis.axis_label = 'Magnetization (ref M0)'\n",
    "# plot.y_range = bkm.DataRange1d(start=-1, end=1)\n",
    "# plot.legend.click_policy = 'hide'\n",
    "# bkp.show(plot)"
   ]
  },
  {
   "cell_type": "code",
   "execution_count": 46,
   "metadata": {},
   "outputs": [
    {
     "data": {
      "text/plain": [
       "'/home/atom/Dropbox/Skule/EECE597/source/examples/Labelling Efficiency for Pulsatile Blood Flow.html'"
      ]
     },
     "execution_count": 46,
     "metadata": {},
     "output_type": "execute_result"
    }
   ],
   "source": [
    "flow = asnumpy(100 * systolic) # cm/s\n",
    "dv = asnumpy(100 * diastolic_velocity)\n",
    "\n",
    "title = 'Labelling Efficiency for Pulsatile Blood Flow'\n",
    "plot = bkp.figure(width=1200, height=600, title=title)\n",
    "color_mapper = bkm.LinearColorMapper(palette='Viridis256', low=0.5, high=1)\n",
    "image = plot.image([asnumpy(lab_eff)], y=[dv.min()], x=[flow.min()],\n",
    "                    dh=[dv.max() - dv.min()],\n",
    "                    dw=[flow.max() - flow.min()], color_mapper=color_mapper)\n",
    "plot.xaxis.axis_label = 'Systolic Velocity (cm/s)'\n",
    "plot.yaxis.axis_label = 'Diastolic Velocity (cm/s)'\n",
    "plot.x_range = bkm.DataRange1d(start=flow.min(), end=flow.max())\n",
    "plot.y_range = bkm.DataRange1d(start=dv.min(), end=dv.max())\n",
    "\n",
    "# add colourbar\n",
    "color_bar = bkm.ColorBar(color_mapper=color_mapper, location=(0, 0))\n",
    "color_bar.title = 'Labelling Efficiency'\n",
    "plot.add_layout(color_bar, 'right')\n",
    "\n",
    "bkp.output_file(f'{title}.html')\n",
    "bkp.save(plot)\n",
    "# bkp.show(plot)"
   ]
  },
  {
   "cell_type": "code",
   "execution_count": 47,
   "metadata": {},
   "outputs": [],
   "source": [
    "# ! open \"{Out[46]}\""
   ]
  },
  {
   "cell_type": "code",
   "execution_count": 48,
   "metadata": {},
   "outputs": [],
   "source": [
    "# flow = asnumpy(100 * flow_velocity.max(axis=-1)) # cm/s\n",
    "# b1 = asnumpy(B1_homogeneity)\n",
    "\n",
    "# title = 'Labelling Efficiency'\n",
    "# plot = bkp.figure(width=1000, height=500) #, title=title)\n",
    "# color_mapper = bkm.LinearColorMapper(palette='Viridis256', low=0, high=1)\n",
    "# image = plot.image([asnumpy(lab_eff.T)], y=[b1.min()], x=[flow.min()],\n",
    "#                     dh=[b1.max() - b1.min()],\n",
    "#                     dw=[flow.max() - flow.min()], color_mapper=color_mapper)\n",
    "# plot.xaxis.axis_label = 'Max Pulsatile Blood Flow Velocity (cm/s)'\n",
    "# plot.yaxis.axis_label = 'B1 Homogeneity'\n",
    "# plot.x_range = bkm.DataRange1d(start=flow.min(), end=flow.max())\n",
    "# plot.y_range = bkm.DataRange1d(start=b1.min(), end=b1.max())\n",
    "\n",
    "# # add colourbar\n",
    "# color_bar = bkm.ColorBar(color_mapper=color_mapper, location=(0, 0))\n",
    "# color_bar.title = title\n",
    "# plot.add_layout(color_bar, 'right')\n",
    "\n",
    "# bkp.output_file(f'{title}.html')\n",
    "# bkp.save(plot)\n",
    "# # bkp.show(plot)"
   ]
  },
  {
   "cell_type": "code",
   "execution_count": 49,
   "metadata": {},
   "outputs": [],
   "source": [
    "# save mags, B_field, time compressed numpy file\n",
    "# np.savez_compressed('asl_simulation.npz', mags=mags[:, 0], B_field=B[:, 0], time=time)"
   ]
  },
  {
   "cell_type": "code",
   "execution_count": 65,
   "metadata": {},
   "outputs": [],
   "source": [
    "flow_time, flow_velocity, flow_position = flow.holdsworth_cca(stop=duration, # + 0.5,\n",
    "                                                              num=round(duration / dt) // 100,\n",
    "                                                              systolic_velocity=0.8,\n",
    "                                                              diastolic_velocity=0.137)"
   ]
  },
  {
   "cell_type": "code",
   "execution_count": 71,
   "metadata": {},
   "outputs": [
    {
     "data": {
      "text/plain": [
       "0.4624492883682249"
      ]
     },
     "execution_count": 71,
     "metadata": {},
     "output_type": "execute_result"
    }
   ],
   "source": [
    "np.percentile(flow_velocity, 85, axis=0)"
   ]
  },
  {
   "cell_type": "code",
   "execution_count": 72,
   "metadata": {},
   "outputs": [
    {
     "data": {
      "text/plain": [
       "0.33079237"
      ]
     },
     "execution_count": 72,
     "metadata": {},
     "output_type": "execute_result"
    }
   ],
   "source": [
    "flow_velocity.mean()"
   ]
  },
  {
   "cell_type": "code",
   "execution_count": 73,
   "metadata": {},
   "outputs": [
    {
     "data": {
      "text/plain": [
       "0.1781818181818182"
      ]
     },
     "execution_count": 73,
     "metadata": {},
     "output_type": "execute_result"
    }
   ],
   "source": [
    "(flow_velocity > 0.4).sum() / flow_velocity.size"
   ]
  },
  {
   "cell_type": "code",
   "execution_count": 67,
   "metadata": {},
   "outputs": [
    {
     "data": {
      "text/html": [
       "\n",
       "  <div id=\"c0be690d-c5af-4b0b-9ade-7599160ee217\" data-root-id=\"p1404\" style=\"display: contents;\"></div>\n"
      ]
     },
     "metadata": {},
     "output_type": "display_data"
    },
    {
     "data": {
      "application/javascript": "(function(root) {\n  function embed_document(root) {\n  const docs_json = {\"b2f423d4-092d-445a-afbc-7f179641de13\":{\"version\":\"3.8.0\",\"title\":\"Bokeh Application\",\"config\":{\"type\":\"object\",\"name\":\"DocumentConfig\",\"id\":\"p1450\",\"attributes\":{\"notifications\":{\"type\":\"object\",\"name\":\"Notifications\",\"id\":\"p1451\"}}},\"roots\":[{\"type\":\"object\",\"name\":\"Figure\",\"id\":\"p1404\",\"attributes\":{\"width\":800,\"height\":400,\"x_range\":{\"type\":\"object\",\"name\":\"Range1d\",\"id\":\"p1414\",\"attributes\":{\"end\":2.2}},\"y_range\":{\"type\":\"object\",\"name\":\"Range1d\",\"id\":\"p1415\",\"attributes\":{\"end\":0.85}},\"x_scale\":{\"type\":\"object\",\"name\":\"LinearScale\",\"id\":\"p1416\"},\"y_scale\":{\"type\":\"object\",\"name\":\"LinearScale\",\"id\":\"p1417\"},\"title\":{\"type\":\"object\",\"name\":\"Title\",\"id\":\"p1407\",\"attributes\":{\"text\":\"Blood Flow Velocity Waveform for the Common Carotid Artery (CCA)\"}},\"renderers\":[{\"type\":\"object\",\"name\":\"GlyphRenderer\",\"id\":\"p1447\",\"attributes\":{\"data_source\":{\"type\":\"object\",\"name\":\"ColumnDataSource\",\"id\":\"p1441\",\"attributes\":{\"selected\":{\"type\":\"object\",\"name\":\"Selection\",\"id\":\"p1442\",\"attributes\":{\"indices\":[],\"line_indices\":[]}},\"selection_policy\":{\"type\":\"object\",\"name\":\"UnionRenderers\",\"id\":\"p1443\"},\"data\":{\"type\":\"map\",\"entries\":[[\"x\",{\"type\":\"ndarray\",\"array\":{\"type\":\"bytes\",\"data\":\"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\"},\"shape\":[1100],\"dtype\":\"float64\",\"order\":\"little\"}],[\"y\",{\"type\":\"ndarray\",\"array\":{\"type\":\"bytes\",\"data\":\"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\"},\"shape\":[1100],\"dtype\":\"float32\",\"order\":\"little\"}]]}}},\"view\":{\"type\":\"object\",\"name\":\"CDSView\",\"id\":\"p1448\",\"attributes\":{\"filter\":{\"type\":\"object\",\"name\":\"AllIndices\",\"id\":\"p1449\"}}},\"glyph\":{\"type\":\"object\",\"name\":\"Line\",\"id\":\"p1444\",\"attributes\":{\"x\":{\"type\":\"field\",\"field\":\"x\"},\"y\":{\"type\":\"field\",\"field\":\"y\"},\"line_color\":\"#1f77b4\",\"line_width\":2}},\"nonselection_glyph\":{\"type\":\"object\",\"name\":\"Line\",\"id\":\"p1445\",\"attributes\":{\"x\":{\"type\":\"field\",\"field\":\"x\"},\"y\":{\"type\":\"field\",\"field\":\"y\"},\"line_color\":\"#1f77b4\",\"line_alpha\":0.1,\"line_width\":2}},\"muted_glyph\":{\"type\":\"object\",\"name\":\"Line\",\"id\":\"p1446\",\"attributes\":{\"x\":{\"type\":\"field\",\"field\":\"x\"},\"y\":{\"type\":\"field\",\"field\":\"y\"},\"line_color\":\"#1f77b4\",\"line_alpha\":0.2,\"line_width\":2}}}}],\"toolbar\":{\"type\":\"object\",\"name\":\"Toolbar\",\"id\":\"p1413\",\"attributes\":{\"tools\":[{\"type\":\"object\",\"name\":\"PanTool\",\"id\":\"p1428\"},{\"type\":\"object\",\"name\":\"WheelZoomTool\",\"id\":\"p1429\",\"attributes\":{\"renderers\":\"auto\"}},{\"type\":\"object\",\"name\":\"BoxZoomTool\",\"id\":\"p1430\",\"attributes\":{\"dimensions\":\"both\",\"overlay\":{\"type\":\"object\",\"name\":\"BoxAnnotation\",\"id\":\"p1431\",\"attributes\":{\"syncable\":false,\"line_color\":\"black\",\"line_alpha\":1.0,\"line_width\":2,\"line_dash\":[4,4],\"fill_color\":\"lightgrey\",\"fill_alpha\":0.5,\"level\":\"overlay\",\"visible\":false,\"left\":{\"type\":\"number\",\"value\":\"nan\"},\"right\":{\"type\":\"number\",\"value\":\"nan\"},\"top\":{\"type\":\"number\",\"value\":\"nan\"},\"bottom\":{\"type\":\"number\",\"value\":\"nan\"},\"left_units\":\"canvas\",\"right_units\":\"canvas\",\"top_units\":\"canvas\",\"bottom_units\":\"canvas\",\"handles\":{\"type\":\"object\",\"name\":\"BoxInteractionHandles\",\"id\":\"p1437\",\"attributes\":{\"all\":{\"type\":\"object\",\"name\":\"AreaVisuals\",\"id\":\"p1436\",\"attributes\":{\"fill_color\":\"white\",\"hover_fill_color\":\"lightgray\"}}}}}}}},{\"type\":\"object\",\"name\":\"SaveTool\",\"id\":\"p1438\"},{\"type\":\"object\",\"name\":\"ResetTool\",\"id\":\"p1439\"},{\"type\":\"object\",\"name\":\"HelpTool\",\"id\":\"p1440\"}]}},\"left\":[{\"type\":\"object\",\"name\":\"LinearAxis\",\"id\":\"p1423\",\"attributes\":{\"ticker\":{\"type\":\"object\",\"name\":\"BasicTicker\",\"id\":\"p1424\",\"attributes\":{\"mantissas\":[1,2,5]}},\"formatter\":{\"type\":\"object\",\"name\":\"BasicTickFormatter\",\"id\":\"p1425\"},\"axis_label\":\"Flow Velocity (cm/s)\",\"major_label_policy\":{\"type\":\"object\",\"name\":\"AllLabels\",\"id\":\"p1426\"}}}],\"below\":[{\"type\":\"object\",\"name\":\"LinearAxis\",\"id\":\"p1418\",\"attributes\":{\"ticker\":{\"type\":\"object\",\"name\":\"BasicTicker\",\"id\":\"p1419\",\"attributes\":{\"mantissas\":[1,2,5]}},\"formatter\":{\"type\":\"object\",\"name\":\"BasicTickFormatter\",\"id\":\"p1420\"},\"axis_label\":\"Time (s)\",\"major_label_policy\":{\"type\":\"object\",\"name\":\"AllLabels\",\"id\":\"p1421\"}}}],\"center\":[{\"type\":\"object\",\"name\":\"Grid\",\"id\":\"p1422\",\"attributes\":{\"axis\":{\"id\":\"p1418\"}}},{\"type\":\"object\",\"name\":\"Grid\",\"id\":\"p1427\",\"attributes\":{\"dimension\":1,\"axis\":{\"id\":\"p1423\"}}}]}}]}};\n  const render_items = [{\"docid\":\"b2f423d4-092d-445a-afbc-7f179641de13\",\"roots\":{\"p1404\":\"c0be690d-c5af-4b0b-9ade-7599160ee217\"},\"root_ids\":[\"p1404\"]}];\n  void root.Bokeh.embed.embed_items_notebook(docs_json, render_items);\n  }\n  if (root.Bokeh !== undefined) {\n    embed_document(root);\n  } else {\n    let attempts = 0;\n    const timer = setInterval(function(root) {\n      if (root.Bokeh !== undefined) {\n        clearInterval(timer);\n        embed_document(root);\n      } else {\n        attempts++;\n        if (attempts > 100) {\n          clearInterval(timer);\n          console.log(\"Bokeh: ERROR: Unable to run BokehJS code because BokehJS library is missing\");\n        }\n      }\n    }, 10, root)\n  }\n})(window);",
      "application/vnd.bokehjs_exec.v0+json": ""
     },
     "metadata": {
      "application/vnd.bokehjs_exec.v0+json": {
       "id": "p1404"
      }
     },
     "output_type": "display_data"
    }
   ],
   "source": [
    "# plot flow velocity with bokeh\n",
    "p = bkp.figure(width=800, height=400, title='Blood Flow Velocity Waveform for the Common Carotid Artery (CCA)',\n",
    "               x_range=(0, flow_time[-1]), y_range=(0, 0.85))\n",
    "p.line(flow_time, flow_velocity, line_width=2)\n",
    "p.xaxis.axis_label = 'Time (s)'\n",
    "p.yaxis.axis_label = 'Flow Velocity (cm/s)'\n",
    "bkp.show(p)"
   ]
  },
  {
   "cell_type": "code",
   "execution_count": null,
   "metadata": {},
   "outputs": [],
   "source": []
  }
 ],
 "metadata": {
  "kernelspec": {
   "display_name": "py3.12",
   "language": "python",
   "name": "python3"
  },
  "language_info": {
   "codemirror_mode": {
    "name": "ipython",
    "version": 3
   },
   "file_extension": ".py",
   "mimetype": "text/x-python",
   "name": "python",
   "nbconvert_exporter": "python",
   "pygments_lexer": "ipython3",
   "version": "3.12.1"
  }
 },
 "nbformat": 4,
 "nbformat_minor": 2
}
